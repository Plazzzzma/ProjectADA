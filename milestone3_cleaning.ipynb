{
 "cells": [
  {
   "cell_type": "code",
   "execution_count": 67,
   "metadata": {},
   "outputs": [],
   "source": [
    "%matplotlib inline\n",
    "\n",
    "# DATA ANALYSIS\n",
    "import pandas as pd\n",
    "import numpy as np\n",
    "import pickle\n",
    "import re\n",
    "import math\n",
    "import datetime\n",
    "\n",
    "# DATA RECOVERY\n",
    "import geopy\n",
    "from geopy.geocoders import Nominatim \n",
    "\n",
    "# DATA VISUALIZATION\n",
    "import matplotlib.pyplot as plt\n",
    "import seaborn as sns\n",
    "import folium\n",
    "from folium import plugins\n"
   ]
  },
  {
   "cell_type": "markdown",
   "metadata": {},
   "source": [
    "# CHICAGO HEALTH FOOD INSPECTION CLEANING"
   ]
  },
  {
   "cell_type": "markdown",
   "metadata": {},
   "source": [
    "RAW DATAFRAME"
   ]
  },
  {
   "cell_type": "code",
   "execution_count": 68,
   "metadata": {},
   "outputs": [],
   "source": [
    "fi_df = pd.read_csv('./Data/food-inspections.csv', sep = ',', header = 0, names = ['inspection id', 'restaurant name DBA', 'restaurant name AKA', 'license number','facility type','risk','address','city','state','zip','inspection date','inspection type','result','violations','latitude','longitude','location','historical','zip codes','commun. areas','census tr.','wards'])"
   ]
  },
  {
   "cell_type": "code",
   "execution_count": 69,
   "metadata": {},
   "outputs": [
    {
     "data": {
      "text/html": [
       "<div>\n",
       "<style scoped>\n",
       "    .dataframe tbody tr th:only-of-type {\n",
       "        vertical-align: middle;\n",
       "    }\n",
       "\n",
       "    .dataframe tbody tr th {\n",
       "        vertical-align: top;\n",
       "    }\n",
       "\n",
       "    .dataframe thead th {\n",
       "        text-align: right;\n",
       "    }\n",
       "</style>\n",
       "<table border=\"1\" class=\"dataframe\">\n",
       "  <thead>\n",
       "    <tr style=\"text-align: right;\">\n",
       "      <th></th>\n",
       "      <th>inspection id</th>\n",
       "      <th>restaurant name DBA</th>\n",
       "      <th>restaurant name AKA</th>\n",
       "      <th>license number</th>\n",
       "      <th>facility type</th>\n",
       "      <th>risk</th>\n",
       "      <th>address</th>\n",
       "      <th>city</th>\n",
       "      <th>state</th>\n",
       "      <th>zip</th>\n",
       "      <th>...</th>\n",
       "      <th>result</th>\n",
       "      <th>violations</th>\n",
       "      <th>latitude</th>\n",
       "      <th>longitude</th>\n",
       "      <th>location</th>\n",
       "      <th>historical</th>\n",
       "      <th>zip codes</th>\n",
       "      <th>commun. areas</th>\n",
       "      <th>census tr.</th>\n",
       "      <th>wards</th>\n",
       "    </tr>\n",
       "  </thead>\n",
       "  <tbody>\n",
       "    <tr>\n",
       "      <th>0</th>\n",
       "      <td>2345969</td>\n",
       "      <td>LORDANCHILD CHRISTIAN DAY CARE INC.</td>\n",
       "      <td>LORDANCHILD CHRISTIAN DAY CARE INC.</td>\n",
       "      <td>2215931.0</td>\n",
       "      <td>Children's Services Facility</td>\n",
       "      <td>Risk 1 (High)</td>\n",
       "      <td>3344 W 79TH ST</td>\n",
       "      <td>CHICAGO</td>\n",
       "      <td>IL</td>\n",
       "      <td>60652.0</td>\n",
       "      <td>...</td>\n",
       "      <td>Pass w/ Conditions</td>\n",
       "      <td>3. MANAGEMENT, FOOD EMPLOYEE AND CONDITIONAL E...</td>\n",
       "      <td>41.749915</td>\n",
       "      <td>-87.706628</td>\n",
       "      <td>{'longitude': '41.749914910076974', 'latitude'...</td>\n",
       "      <td>NaN</td>\n",
       "      <td>NaN</td>\n",
       "      <td>NaN</td>\n",
       "      <td>NaN</td>\n",
       "      <td>NaN</td>\n",
       "    </tr>\n",
       "    <tr>\n",
       "      <th>1</th>\n",
       "      <td>2345986</td>\n",
       "      <td>TACOS &amp; SALSAS LLC</td>\n",
       "      <td>TACOS &amp; SALSAS</td>\n",
       "      <td>2684121.0</td>\n",
       "      <td>Mobile Food Preparer</td>\n",
       "      <td>Risk 2 (Medium)</td>\n",
       "      <td>2300 S THROOP ST</td>\n",
       "      <td>CHICAGO</td>\n",
       "      <td>IL</td>\n",
       "      <td>60608.0</td>\n",
       "      <td>...</td>\n",
       "      <td>Fail</td>\n",
       "      <td>3. MANAGEMENT, FOOD EMPLOYEE AND CONDITIONAL E...</td>\n",
       "      <td>41.850451</td>\n",
       "      <td>-87.658798</td>\n",
       "      <td>{'longitude': '41.85045102427', 'latitude': '-...</td>\n",
       "      <td>NaN</td>\n",
       "      <td>NaN</td>\n",
       "      <td>NaN</td>\n",
       "      <td>NaN</td>\n",
       "      <td>NaN</td>\n",
       "    </tr>\n",
       "    <tr>\n",
       "      <th>2</th>\n",
       "      <td>2345977</td>\n",
       "      <td>KIMBALL DAY CARE CENTER &amp; KINDERGARTEN , INC.</td>\n",
       "      <td>KIMBALL DAY CARE CENTER &amp; KINDERGARTEN , INC.</td>\n",
       "      <td>2215859.0</td>\n",
       "      <td>Daycare (2 - 6 Years)</td>\n",
       "      <td>Risk 1 (High)</td>\n",
       "      <td>1636 N KIMBALL AVE</td>\n",
       "      <td>CHICAGO</td>\n",
       "      <td>IL</td>\n",
       "      <td>60647.0</td>\n",
       "      <td>...</td>\n",
       "      <td>Fail</td>\n",
       "      <td>1. PERSON IN CHARGE PRESENT, DEMONSTRATES KNOW...</td>\n",
       "      <td>41.911155</td>\n",
       "      <td>-87.711859</td>\n",
       "      <td>{'longitude': '41.911154536126396', 'latitude'...</td>\n",
       "      <td>NaN</td>\n",
       "      <td>NaN</td>\n",
       "      <td>NaN</td>\n",
       "      <td>NaN</td>\n",
       "      <td>NaN</td>\n",
       "    </tr>\n",
       "    <tr>\n",
       "      <th>3</th>\n",
       "      <td>2345959</td>\n",
       "      <td>DUNKIN DONUTS</td>\n",
       "      <td>DUNKIN DONUTS</td>\n",
       "      <td>1803815.0</td>\n",
       "      <td>Restaurant</td>\n",
       "      <td>Risk 2 (Medium)</td>\n",
       "      <td>4453 S ARCHER AVE</td>\n",
       "      <td>CHICAGO</td>\n",
       "      <td>IL</td>\n",
       "      <td>60632.0</td>\n",
       "      <td>...</td>\n",
       "      <td>Pass w/ Conditions</td>\n",
       "      <td>3. MANAGEMENT, FOOD EMPLOYEE AND CONDITIONAL E...</td>\n",
       "      <td>41.812307</td>\n",
       "      <td>-87.706919</td>\n",
       "      <td>{'longitude': '41.81230749019629', 'latitude':...</td>\n",
       "      <td>NaN</td>\n",
       "      <td>NaN</td>\n",
       "      <td>NaN</td>\n",
       "      <td>NaN</td>\n",
       "      <td>NaN</td>\n",
       "    </tr>\n",
       "    <tr>\n",
       "      <th>4</th>\n",
       "      <td>2345967</td>\n",
       "      <td>SHEEBA MEAT &amp; GROCERY</td>\n",
       "      <td>SHEEBA MEAT &amp; GROCERY</td>\n",
       "      <td>2699426.0</td>\n",
       "      <td>Grocery Store</td>\n",
       "      <td>Risk 2 (Medium)</td>\n",
       "      <td>4307 W LAWRENCE AVE</td>\n",
       "      <td>CHICAGO</td>\n",
       "      <td>IL</td>\n",
       "      <td>60630.0</td>\n",
       "      <td>...</td>\n",
       "      <td>Fail</td>\n",
       "      <td>3. MANAGEMENT, FOOD EMPLOYEE AND CONDITIONAL E...</td>\n",
       "      <td>41.968045</td>\n",
       "      <td>-87.735750</td>\n",
       "      <td>{'longitude': '41.96804517534159', 'latitude':...</td>\n",
       "      <td>NaN</td>\n",
       "      <td>NaN</td>\n",
       "      <td>NaN</td>\n",
       "      <td>NaN</td>\n",
       "      <td>NaN</td>\n",
       "    </tr>\n",
       "  </tbody>\n",
       "</table>\n",
       "<p>5 rows × 22 columns</p>\n",
       "</div>"
      ],
      "text/plain": [
       "   inspection id                            restaurant name DBA  \\\n",
       "0        2345969            LORDANCHILD CHRISTIAN DAY CARE INC.   \n",
       "1        2345986                             TACOS & SALSAS LLC   \n",
       "2        2345977  KIMBALL DAY CARE CENTER & KINDERGARTEN , INC.   \n",
       "3        2345959                                  DUNKIN DONUTS   \n",
       "4        2345967                          SHEEBA MEAT & GROCERY   \n",
       "\n",
       "                             restaurant name AKA  license number  \\\n",
       "0            LORDANCHILD CHRISTIAN DAY CARE INC.       2215931.0   \n",
       "1                                 TACOS & SALSAS       2684121.0   \n",
       "2  KIMBALL DAY CARE CENTER & KINDERGARTEN , INC.       2215859.0   \n",
       "3                                  DUNKIN DONUTS       1803815.0   \n",
       "4                          SHEEBA MEAT & GROCERY       2699426.0   \n",
       "\n",
       "                  facility type             risk               address  \\\n",
       "0  Children's Services Facility    Risk 1 (High)       3344 W 79TH ST    \n",
       "1          Mobile Food Preparer  Risk 2 (Medium)     2300 S THROOP ST    \n",
       "2         Daycare (2 - 6 Years)    Risk 1 (High)   1636 N KIMBALL AVE    \n",
       "3                    Restaurant  Risk 2 (Medium)    4453 S ARCHER AVE    \n",
       "4                 Grocery Store  Risk 2 (Medium)  4307 W LAWRENCE AVE    \n",
       "\n",
       "      city state      zip  ...              result  \\\n",
       "0  CHICAGO    IL  60652.0  ...  Pass w/ Conditions   \n",
       "1  CHICAGO    IL  60608.0  ...                Fail   \n",
       "2  CHICAGO    IL  60647.0  ...                Fail   \n",
       "3  CHICAGO    IL  60632.0  ...  Pass w/ Conditions   \n",
       "4  CHICAGO    IL  60630.0  ...                Fail   \n",
       "\n",
       "                                          violations   latitude  longitude  \\\n",
       "0  3. MANAGEMENT, FOOD EMPLOYEE AND CONDITIONAL E...  41.749915 -87.706628   \n",
       "1  3. MANAGEMENT, FOOD EMPLOYEE AND CONDITIONAL E...  41.850451 -87.658798   \n",
       "2  1. PERSON IN CHARGE PRESENT, DEMONSTRATES KNOW...  41.911155 -87.711859   \n",
       "3  3. MANAGEMENT, FOOD EMPLOYEE AND CONDITIONAL E...  41.812307 -87.706919   \n",
       "4  3. MANAGEMENT, FOOD EMPLOYEE AND CONDITIONAL E...  41.968045 -87.735750   \n",
       "\n",
       "                                            location  historical zip codes  \\\n",
       "0  {'longitude': '41.749914910076974', 'latitude'...         NaN       NaN   \n",
       "1  {'longitude': '41.85045102427', 'latitude': '-...         NaN       NaN   \n",
       "2  {'longitude': '41.911154536126396', 'latitude'...         NaN       NaN   \n",
       "3  {'longitude': '41.81230749019629', 'latitude':...         NaN       NaN   \n",
       "4  {'longitude': '41.96804517534159', 'latitude':...         NaN       NaN   \n",
       "\n",
       "   commun. areas  census tr.  wards  \n",
       "0            NaN         NaN    NaN  \n",
       "1            NaN         NaN    NaN  \n",
       "2            NaN         NaN    NaN  \n",
       "3            NaN         NaN    NaN  \n",
       "4            NaN         NaN    NaN  \n",
       "\n",
       "[5 rows x 22 columns]"
      ]
     },
     "execution_count": 69,
     "metadata": {},
     "output_type": "execute_result"
    }
   ],
   "source": [
    "fi_df.head()"
   ]
  },
  {
   "cell_type": "code",
   "execution_count": 70,
   "metadata": {},
   "outputs": [
    {
     "data": {
      "text/plain": [
       "inspection id            int64\n",
       "restaurant name DBA     object\n",
       "restaurant name AKA     object\n",
       "license number         float64\n",
       "facility type           object\n",
       "risk                    object\n",
       "address                 object\n",
       "city                    object\n",
       "state                   object\n",
       "zip                    float64\n",
       "inspection date         object\n",
       "inspection type         object\n",
       "result                  object\n",
       "violations              object\n",
       "latitude               float64\n",
       "longitude              float64\n",
       "location                object\n",
       "historical             float64\n",
       "zip codes              float64\n",
       "commun. areas          float64\n",
       "census tr.             float64\n",
       "wards                  float64\n",
       "dtype: object"
      ]
     },
     "execution_count": 70,
     "metadata": {},
     "output_type": "execute_result"
    }
   ],
   "source": [
    "fi_df.dtypes"
   ]
  },
  {
   "cell_type": "markdown",
   "metadata": {},
   "source": [
    "Based on the description of the dataset provided  [here](https://data.cityofchicago.org/api/assets/BAD5301B-681A-4202-9D25-51B2CAE672FF) by the city of Chicago  \n",
    "\n",
    "__DBA__: legal name of the establishment.  \n",
    "__AKA__: the name people associates to the establishment.  \n",
    "__License number__: unique number assigned to the establishment for the purposes of licensing by the Department of Business Affairs and Consumer Protection. An establishment can have more than one license.  \n",
    "__Type of facility__: Each establishment is described by one of the following: bakery, banquet hall, candy store, caterer, coffee shop, day care center (for ages less than 2), day care center (for ages 2 – 6), day care center (combo, for ages less than 2 and 2 – 6 combined), gas station, Golden Diner, grocery store, hospital, long term care center(nursing home), liquor store, mobile food dispenser, restaurant, paleteria, school, shelter, tavern, social club, wholesaler, or Wrigley Field Rooftop.  \n",
    "__Risk category of facility__: Each establishment is categorized as to its risk of adversely affecting the public’s health, with 1 being the highest and 3 the lowest. The frequency of inspection is tied to this risk:\n",
    " - *risk 1*: two inspections per year.\n",
    " - *risk 2*: one inspection per year.\n",
    " - *risk 3*: an inspection every two years.\n",
    " \n",
    "__Inspection date__: This is the date the inspection occurred. A particular establishment is likely to have multiple inspections which are denoted by different inspection dates.  \n",
    "__Inspection type__: An inspection can be one of the following types:\n",
    " - *canvass*: the most common type of inspection performed at a frequency relative to the risk of the establishment.\n",
    " - *consultation*: when the inspection is done at the request of the owner prior to the opening of the establishment. \n",
    " - *complaint*: when the inspection is done in response to a complaint against the establishment.\n",
    " - *license*: when the inspection is done as a requirement for the establishment to receive its license to operate.\n",
    " - *suspect food poisoning* when the inspection is done in response to one or more persons claiming to have gotten ill as a result of eating at the establishment (a specific type of complaintbased inspection).\n",
    " - *task-force inspection* when an inspection of a bar or tavern is done.\n",
    "Re-inspections can occur for most types of these inspections and are indicated as such.    \n",
    "\n",
    "__Results__: An inspection can pass, pass with conditions or fail. Establishments receiving a ‘pass’ were found to have no critical or serious violations (violation number 1-14 and 15- 29, respectively). Establishments receiving a ‘pass with conditions’ were found to have critical or serious violations, but these were corrected during the inspection. Establishments receiving a ‘fail’ were found to have critical or serious violations that were not correctable during the inspection. An establishment receiving a ‘fail’ does not necessarily mean the establishment’s licensed is suspended. Establishments found to be out of business or not located are indicated as such.\n",
    "__Violations__: An establishment can receive one or more of 45 distinct violations (violation numbers 1-44 and 70). For each violation number listed for a given establishment, the requirement the establishment must meet in order for it to NOT receive a violation is noted, followed by a specific description of the findings that caused the violation to be issued."
   ]
  },
  {
   "cell_type": "markdown",
   "metadata": {},
   "source": [
    "## 1.1 CLEANING, UNDERSTANDING THE DATASET"
   ]
  },
  {
   "cell_type": "markdown",
   "metadata": {},
   "source": [
    "### 1.1.1 Empty columns"
   ]
  },
  {
   "cell_type": "markdown",
   "metadata": {},
   "source": [
    "First, we need to check which columns are usable, a preview on the file hints that some columns might be completely empty as it is the case for the following:"
   ]
  },
  {
   "cell_type": "code",
   "execution_count": 71,
   "metadata": {},
   "outputs": [
    {
     "data": {
      "text/plain": [
       "Index(['wards', 'commun. areas', 'zip codes', 'historical', 'census tr.'], dtype='object')"
      ]
     },
     "execution_count": 71,
     "metadata": {},
     "output_type": "execute_result"
    }
   ],
   "source": [
    "missg_val = fi_df.isnull().sum().sort_values(ascending = False)\n",
    "missg_val = missg_val[missg_val > 0] / fi_df.shape[0]\n",
    "empty_columns = missg_val[missg_val == 1.0]\n",
    "empty_columns.index"
   ]
  },
  {
   "cell_type": "markdown",
   "metadata": {},
   "source": [
    "We can clearly observe that some columns are full of null values. So we can remove those columns as a first step for cleaning the dataset."
   ]
  },
  {
   "cell_type": "code",
   "execution_count": 72,
   "metadata": {},
   "outputs": [
    {
     "data": {
      "text/html": [
       "<div>\n",
       "<style scoped>\n",
       "    .dataframe tbody tr th:only-of-type {\n",
       "        vertical-align: middle;\n",
       "    }\n",
       "\n",
       "    .dataframe tbody tr th {\n",
       "        vertical-align: top;\n",
       "    }\n",
       "\n",
       "    .dataframe thead th {\n",
       "        text-align: right;\n",
       "    }\n",
       "</style>\n",
       "<table border=\"1\" class=\"dataframe\">\n",
       "  <thead>\n",
       "    <tr style=\"text-align: right;\">\n",
       "      <th></th>\n",
       "      <th>inspection id</th>\n",
       "      <th>restaurant name DBA</th>\n",
       "      <th>restaurant name AKA</th>\n",
       "      <th>license number</th>\n",
       "      <th>facility type</th>\n",
       "      <th>risk</th>\n",
       "      <th>address</th>\n",
       "      <th>city</th>\n",
       "      <th>state</th>\n",
       "      <th>zip</th>\n",
       "      <th>inspection date</th>\n",
       "      <th>inspection type</th>\n",
       "      <th>result</th>\n",
       "      <th>violations</th>\n",
       "      <th>latitude</th>\n",
       "      <th>longitude</th>\n",
       "      <th>location</th>\n",
       "    </tr>\n",
       "  </thead>\n",
       "  <tbody>\n",
       "    <tr>\n",
       "      <th>0</th>\n",
       "      <td>2345969</td>\n",
       "      <td>LORDANCHILD CHRISTIAN DAY CARE INC.</td>\n",
       "      <td>LORDANCHILD CHRISTIAN DAY CARE INC.</td>\n",
       "      <td>2215931.0</td>\n",
       "      <td>Children's Services Facility</td>\n",
       "      <td>Risk 1 (High)</td>\n",
       "      <td>3344 W 79TH ST</td>\n",
       "      <td>CHICAGO</td>\n",
       "      <td>IL</td>\n",
       "      <td>60652.0</td>\n",
       "      <td>2019-11-20T00:00:00.000</td>\n",
       "      <td>License</td>\n",
       "      <td>Pass w/ Conditions</td>\n",
       "      <td>3. MANAGEMENT, FOOD EMPLOYEE AND CONDITIONAL E...</td>\n",
       "      <td>41.749915</td>\n",
       "      <td>-87.706628</td>\n",
       "      <td>{'longitude': '41.749914910076974', 'latitude'...</td>\n",
       "    </tr>\n",
       "  </tbody>\n",
       "</table>\n",
       "</div>"
      ],
      "text/plain": [
       "   inspection id                  restaurant name DBA  \\\n",
       "0        2345969  LORDANCHILD CHRISTIAN DAY CARE INC.   \n",
       "\n",
       "                   restaurant name AKA  license number  \\\n",
       "0  LORDANCHILD CHRISTIAN DAY CARE INC.       2215931.0   \n",
       "\n",
       "                  facility type           risk          address     city  \\\n",
       "0  Children's Services Facility  Risk 1 (High)  3344 W 79TH ST   CHICAGO   \n",
       "\n",
       "  state      zip          inspection date inspection type              result  \\\n",
       "0    IL  60652.0  2019-11-20T00:00:00.000         License  Pass w/ Conditions   \n",
       "\n",
       "                                          violations   latitude  longitude  \\\n",
       "0  3. MANAGEMENT, FOOD EMPLOYEE AND CONDITIONAL E...  41.749915 -87.706628   \n",
       "\n",
       "                                            location  \n",
       "0  {'longitude': '41.749914910076974', 'latitude'...  "
      ]
     },
     "execution_count": 72,
     "metadata": {},
     "output_type": "execute_result"
    }
   ],
   "source": [
    "fi_df=fi_df.drop(columns=empty_columns.index)\n",
    "fi_df.head(1)"
   ]
  },
  {
   "cell_type": "markdown",
   "metadata": {},
   "source": [
    "### 1.1.2 Removing NaN/Null values  \n",
    "\n",
    "Let's observe the columns that still have nan values"
   ]
  },
  {
   "cell_type": "code",
   "execution_count": 73,
   "metadata": {},
   "outputs": [],
   "source": [
    "def plot_nan(without_violations = True):\n",
    "    missg_val = fi_df.isnull().sum().sort_values(ascending = False)\n",
    "    if(without_violations):\n",
    "        missg_val = missg_val[missg_val > 0].iloc[1:]\n",
    "    else:\n",
    "        missg_val = missg_val[missg_val > 0]\n",
    "    return sns.barplot(x = missg_val, y = missg_val.index)"
   ]
  },
  {
   "cell_type": "code",
   "execution_count": 74,
   "metadata": {},
   "outputs": [
    {
     "data": {
      "text/plain": [
       "<matplotlib.axes._subplots.AxesSubplot at 0x209a73ae588>"
      ]
     },
     "execution_count": 74,
     "metadata": {},
     "output_type": "execute_result"
    },
    {
     "data": {
      "image/png": "[encoded data removed]",
      "text/plain": [
       "<Figure size 432x288 with 1 Axes>"
      ]
     },
     "metadata": {
      "needs_background": "light"
     },
     "output_type": "display_data"
    }
   ],
   "source": [
    "plot_nan(without_violations = False)"
   ]
  },
  {
   "cell_type": "markdown",
   "metadata": {},
   "source": [
    "#### 1.1.2.1 VIOLATIONS\n",
    "\n",
    "We won't be able to replace the missing values. Indeed those informations comes from the inspections so we can't recover them or create them. However, all restaurants won't necessary cause violations. Indeed, we have to consider that a restaurant that passed the last sanitar control may have succeded because of this. So here it doesn't have to be considered as a missing value. However if the violations aren't reported while the control has not been successfully passed, we would consider that the information is not correctly reported and then delete the corresponding line. "
   ]
  },
  {
   "cell_type": "code",
   "execution_count": 75,
   "metadata": {},
   "outputs": [],
   "source": [
    "fi_df = fi_df[((~fi_df['violations'].isna()) & fi_df['violations'].apply(lambda x : x != '')) | fi_df['result'].apply(lambda x : x == 'Pass')]"
   ]
  },
  {
   "cell_type": "code",
   "execution_count": 76,
   "metadata": {},
   "outputs": [
    {
     "data": {
      "text/plain": [
       "<matplotlib.axes._subplots.AxesSubplot at 0x209a2947488>"
      ]
     },
     "execution_count": 76,
     "metadata": {},
     "output_type": "execute_result"
    },
    {
     "data": {
      "image/png": "[encoded data removed]",
      "text/plain": [
       "<Figure size 432x288 with 1 Axes>"
      ]
     },
     "metadata": {
      "needs_background": "light"
     },
     "output_type": "display_data"
    }
   ],
   "source": [
    "plot_nan(without_violations = False)"
   ]
  },
  {
   "cell_type": "markdown",
   "metadata": {},
   "source": [
    "we can see that we almost delete half of the rows that have null values in the violotions column. But we have 20000 rows so more than 10% of the dataframe that passed the control with no violation reported. This shows that it is important not to delete them."
   ]
  },
  {
   "cell_type": "markdown",
   "metadata": {},
   "source": [
    "#### 1.1.2.2 RESTAURANT NAME AKA"
   ]
  },
  {
   "cell_type": "code",
   "execution_count": 77,
   "metadata": {},
   "outputs": [
    {
     "data": {
      "text/html": [
       "<div>\n",
       "<style scoped>\n",
       "    .dataframe tbody tr th:only-of-type {\n",
       "        vertical-align: middle;\n",
       "    }\n",
       "\n",
       "    .dataframe tbody tr th {\n",
       "        vertical-align: top;\n",
       "    }\n",
       "\n",
       "    .dataframe thead th {\n",
       "        text-align: right;\n",
       "    }\n",
       "</style>\n",
       "<table border=\"1\" class=\"dataframe\">\n",
       "  <thead>\n",
       "    <tr style=\"text-align: right;\">\n",
       "      <th></th>\n",
       "      <th>restaurant name DBA</th>\n",
       "      <th>restaurant name AKA</th>\n",
       "    </tr>\n",
       "  </thead>\n",
       "  <tbody>\n",
       "    <tr>\n",
       "      <th>0</th>\n",
       "      <td>LORDANCHILD CHRISTIAN DAY CARE INC.</td>\n",
       "      <td>LORDANCHILD CHRISTIAN DAY CARE INC.</td>\n",
       "    </tr>\n",
       "    <tr>\n",
       "      <th>1</th>\n",
       "      <td>TACOS &amp; SALSAS LLC</td>\n",
       "      <td>TACOS &amp; SALSAS</td>\n",
       "    </tr>\n",
       "    <tr>\n",
       "      <th>2</th>\n",
       "      <td>KIMBALL DAY CARE CENTER &amp; KINDERGARTEN , INC.</td>\n",
       "      <td>KIMBALL DAY CARE CENTER &amp; KINDERGARTEN , INC.</td>\n",
       "    </tr>\n",
       "    <tr>\n",
       "      <th>3</th>\n",
       "      <td>DUNKIN DONUTS</td>\n",
       "      <td>DUNKIN DONUTS</td>\n",
       "    </tr>\n",
       "    <tr>\n",
       "      <th>4</th>\n",
       "      <td>SHEEBA MEAT &amp; GROCERY</td>\n",
       "      <td>SHEEBA MEAT &amp; GROCERY</td>\n",
       "    </tr>\n",
       "  </tbody>\n",
       "</table>\n",
       "</div>"
      ],
      "text/plain": [
       "                             restaurant name DBA  \\\n",
       "0            LORDANCHILD CHRISTIAN DAY CARE INC.   \n",
       "1                             TACOS & SALSAS LLC   \n",
       "2  KIMBALL DAY CARE CENTER & KINDERGARTEN , INC.   \n",
       "3                                  DUNKIN DONUTS   \n",
       "4                          SHEEBA MEAT & GROCERY   \n",
       "\n",
       "                             restaurant name AKA  \n",
       "0            LORDANCHILD CHRISTIAN DAY CARE INC.  \n",
       "1                                 TACOS & SALSAS  \n",
       "2  KIMBALL DAY CARE CENTER & KINDERGARTEN , INC.  \n",
       "3                                  DUNKIN DONUTS  \n",
       "4                          SHEEBA MEAT & GROCERY  "
      ]
     },
     "execution_count": 77,
     "metadata": {},
     "output_type": "execute_result"
    }
   ],
   "source": [
    "fi_df[['restaurant name DBA','restaurant name AKA']].head()"
   ]
  },
  {
   "cell_type": "markdown",
   "metadata": {},
   "source": [
    "according to the head of the dataframe, we can see that we can recover the AKA name with the DBA name of the restaurant. So we can try actually to merge these two columns by prefering the AKA name.\n",
    "As we didn't detect any null DBA name, we should fill every missing value in this column processing this way."
   ]
  },
  {
   "cell_type": "code",
   "execution_count": 78,
   "metadata": {},
   "outputs": [
    {
     "data": {
      "text/html": [
       "<div>\n",
       "<style scoped>\n",
       "    .dataframe tbody tr th:only-of-type {\n",
       "        vertical-align: middle;\n",
       "    }\n",
       "\n",
       "    .dataframe tbody tr th {\n",
       "        vertical-align: top;\n",
       "    }\n",
       "\n",
       "    .dataframe thead th {\n",
       "        text-align: right;\n",
       "    }\n",
       "</style>\n",
       "<table border=\"1\" class=\"dataframe\">\n",
       "  <thead>\n",
       "    <tr style=\"text-align: right;\">\n",
       "      <th></th>\n",
       "      <th>inspection id</th>\n",
       "      <th>license number</th>\n",
       "      <th>facility type</th>\n",
       "      <th>risk</th>\n",
       "      <th>address</th>\n",
       "      <th>city</th>\n",
       "      <th>state</th>\n",
       "      <th>zip</th>\n",
       "      <th>inspection date</th>\n",
       "      <th>inspection type</th>\n",
       "      <th>result</th>\n",
       "      <th>violations</th>\n",
       "      <th>latitude</th>\n",
       "      <th>longitude</th>\n",
       "      <th>location</th>\n",
       "      <th>restaurant name</th>\n",
       "    </tr>\n",
       "  </thead>\n",
       "  <tbody>\n",
       "    <tr>\n",
       "      <th>0</th>\n",
       "      <td>2345969</td>\n",
       "      <td>2215931.0</td>\n",
       "      <td>Children's Services Facility</td>\n",
       "      <td>Risk 1 (High)</td>\n",
       "      <td>3344 W 79TH ST</td>\n",
       "      <td>CHICAGO</td>\n",
       "      <td>IL</td>\n",
       "      <td>60652.0</td>\n",
       "      <td>2019-11-20T00:00:00.000</td>\n",
       "      <td>License</td>\n",
       "      <td>Pass w/ Conditions</td>\n",
       "      <td>3. MANAGEMENT, FOOD EMPLOYEE AND CONDITIONAL E...</td>\n",
       "      <td>41.749915</td>\n",
       "      <td>-87.706628</td>\n",
       "      <td>{'longitude': '41.749914910076974', 'latitude'...</td>\n",
       "      <td>LORDANCHILD CHRISTIAN DAY CARE INC.</td>\n",
       "    </tr>\n",
       "    <tr>\n",
       "      <th>1</th>\n",
       "      <td>2345986</td>\n",
       "      <td>2684121.0</td>\n",
       "      <td>Mobile Food Preparer</td>\n",
       "      <td>Risk 2 (Medium)</td>\n",
       "      <td>2300 S THROOP ST</td>\n",
       "      <td>CHICAGO</td>\n",
       "      <td>IL</td>\n",
       "      <td>60608.0</td>\n",
       "      <td>2019-11-20T00:00:00.000</td>\n",
       "      <td>License Re-Inspection</td>\n",
       "      <td>Fail</td>\n",
       "      <td>3. MANAGEMENT, FOOD EMPLOYEE AND CONDITIONAL E...</td>\n",
       "      <td>41.850451</td>\n",
       "      <td>-87.658798</td>\n",
       "      <td>{'longitude': '41.85045102427', 'latitude': '-...</td>\n",
       "      <td>TACOS &amp; SALSAS</td>\n",
       "    </tr>\n",
       "    <tr>\n",
       "      <th>2</th>\n",
       "      <td>2345977</td>\n",
       "      <td>2215859.0</td>\n",
       "      <td>Daycare (2 - 6 Years)</td>\n",
       "      <td>Risk 1 (High)</td>\n",
       "      <td>1636 N KIMBALL AVE</td>\n",
       "      <td>CHICAGO</td>\n",
       "      <td>IL</td>\n",
       "      <td>60647.0</td>\n",
       "      <td>2019-11-20T00:00:00.000</td>\n",
       "      <td>License</td>\n",
       "      <td>Fail</td>\n",
       "      <td>1. PERSON IN CHARGE PRESENT, DEMONSTRATES KNOW...</td>\n",
       "      <td>41.911155</td>\n",
       "      <td>-87.711859</td>\n",
       "      <td>{'longitude': '41.911154536126396', 'latitude'...</td>\n",
       "      <td>KIMBALL DAY CARE CENTER &amp; KINDERGARTEN , INC.</td>\n",
       "    </tr>\n",
       "    <tr>\n",
       "      <th>3</th>\n",
       "      <td>2345959</td>\n",
       "      <td>1803815.0</td>\n",
       "      <td>Restaurant</td>\n",
       "      <td>Risk 2 (Medium)</td>\n",
       "      <td>4453 S ARCHER AVE</td>\n",
       "      <td>CHICAGO</td>\n",
       "      <td>IL</td>\n",
       "      <td>60632.0</td>\n",
       "      <td>2019-11-20T00:00:00.000</td>\n",
       "      <td>Canvass</td>\n",
       "      <td>Pass w/ Conditions</td>\n",
       "      <td>3. MANAGEMENT, FOOD EMPLOYEE AND CONDITIONAL E...</td>\n",
       "      <td>41.812307</td>\n",
       "      <td>-87.706919</td>\n",
       "      <td>{'longitude': '41.81230749019629', 'latitude':...</td>\n",
       "      <td>DUNKIN DONUTS</td>\n",
       "    </tr>\n",
       "    <tr>\n",
       "      <th>4</th>\n",
       "      <td>2345967</td>\n",
       "      <td>2699426.0</td>\n",
       "      <td>Grocery Store</td>\n",
       "      <td>Risk 2 (Medium)</td>\n",
       "      <td>4307 W LAWRENCE AVE</td>\n",
       "      <td>CHICAGO</td>\n",
       "      <td>IL</td>\n",
       "      <td>60630.0</td>\n",
       "      <td>2019-11-20T00:00:00.000</td>\n",
       "      <td>License</td>\n",
       "      <td>Fail</td>\n",
       "      <td>3. MANAGEMENT, FOOD EMPLOYEE AND CONDITIONAL E...</td>\n",
       "      <td>41.968045</td>\n",
       "      <td>-87.735750</td>\n",
       "      <td>{'longitude': '41.96804517534159', 'latitude':...</td>\n",
       "      <td>SHEEBA MEAT &amp; GROCERY</td>\n",
       "    </tr>\n",
       "  </tbody>\n",
       "</table>\n",
       "</div>"
      ],
      "text/plain": [
       "   inspection id  license number                 facility type  \\\n",
       "0        2345969       2215931.0  Children's Services Facility   \n",
       "1        2345986       2684121.0          Mobile Food Preparer   \n",
       "2        2345977       2215859.0         Daycare (2 - 6 Years)   \n",
       "3        2345959       1803815.0                    Restaurant   \n",
       "4        2345967       2699426.0                 Grocery Store   \n",
       "\n",
       "              risk               address     city state      zip  \\\n",
       "0    Risk 1 (High)       3344 W 79TH ST   CHICAGO    IL  60652.0   \n",
       "1  Risk 2 (Medium)     2300 S THROOP ST   CHICAGO    IL  60608.0   \n",
       "2    Risk 1 (High)   1636 N KIMBALL AVE   CHICAGO    IL  60647.0   \n",
       "3  Risk 2 (Medium)    4453 S ARCHER AVE   CHICAGO    IL  60632.0   \n",
       "4  Risk 2 (Medium)  4307 W LAWRENCE AVE   CHICAGO    IL  60630.0   \n",
       "\n",
       "           inspection date        inspection type              result  \\\n",
       "0  2019-11-20T00:00:00.000                License  Pass w/ Conditions   \n",
       "1  2019-11-20T00:00:00.000  License Re-Inspection                Fail   \n",
       "2  2019-11-20T00:00:00.000                License                Fail   \n",
       "3  2019-11-20T00:00:00.000                Canvass  Pass w/ Conditions   \n",
       "4  2019-11-20T00:00:00.000                License                Fail   \n",
       "\n",
       "                                          violations   latitude  longitude  \\\n",
       "0  3. MANAGEMENT, FOOD EMPLOYEE AND CONDITIONAL E...  41.749915 -87.706628   \n",
       "1  3. MANAGEMENT, FOOD EMPLOYEE AND CONDITIONAL E...  41.850451 -87.658798   \n",
       "2  1. PERSON IN CHARGE PRESENT, DEMONSTRATES KNOW...  41.911155 -87.711859   \n",
       "3  3. MANAGEMENT, FOOD EMPLOYEE AND CONDITIONAL E...  41.812307 -87.706919   \n",
       "4  3. MANAGEMENT, FOOD EMPLOYEE AND CONDITIONAL E...  41.968045 -87.735750   \n",
       "\n",
       "                                            location  \\\n",
       "0  {'longitude': '41.749914910076974', 'latitude'...   \n",
       "1  {'longitude': '41.85045102427', 'latitude': '-...   \n",
       "2  {'longitude': '41.911154536126396', 'latitude'...   \n",
       "3  {'longitude': '41.81230749019629', 'latitude':...   \n",
       "4  {'longitude': '41.96804517534159', 'latitude':...   \n",
       "\n",
       "                                 restaurant name  \n",
       "0            LORDANCHILD CHRISTIAN DAY CARE INC.  \n",
       "1                                 TACOS & SALSAS  \n",
       "2  KIMBALL DAY CARE CENTER & KINDERGARTEN , INC.  \n",
       "3                                  DUNKIN DONUTS  \n",
       "4                          SHEEBA MEAT & GROCERY  "
      ]
     },
     "execution_count": 78,
     "metadata": {},
     "output_type": "execute_result"
    }
   ],
   "source": [
    "fi_df['restaurant name'] = fi_df.apply(lambda row : row['restaurant name AKA'] if not pd.isnull(row['restaurant name AKA']) else row['restaurant name DBA'], axis = 1)\n",
    "fi_df.drop(columns = ['restaurant name AKA', 'restaurant name DBA'], inplace = True)\n",
    "fi_df.head()"
   ]
  },
  {
   "cell_type": "code",
   "execution_count": 79,
   "metadata": {},
   "outputs": [
    {
     "data": {
      "text/plain": [
       "<matplotlib.axes._subplots.AxesSubplot at 0x20987dc10c8>"
      ]
     },
     "execution_count": 79,
     "metadata": {},
     "output_type": "execute_result"
    },
    {
     "data": {
      "image/png": "[encoded data removed]",
      "text/plain": [
       "<Figure size 432x288 with 1 Axes>"
      ]
     },
     "metadata": {
      "needs_background": "light"
     },
     "output_type": "display_data"
    }
   ],
   "source": [
    "plot_nan()"
   ]
  },
  {
   "cell_type": "markdown",
   "metadata": {},
   "source": [
    "#### 1.1.2.3 LOCATION / LONGITUDE / LATITUDE"
   ]
  },
  {
   "cell_type": "code",
   "execution_count": 80,
   "metadata": {},
   "outputs": [
    {
     "data": {
      "text/plain": [
       "wards                  1.000000\n",
       "commun. areas          1.000000\n",
       "zip codes              1.000000\n",
       "historical             1.000000\n",
       "census tr.             1.000000\n",
       "violations             0.265280\n",
       "facility type          0.024338\n",
       "restaurant name AKA    0.012528\n",
       "latitude               0.003512\n",
       "longitude              0.003512\n",
       "location               0.003512\n",
       "city                   0.000708\n",
       "risk                   0.000362\n",
       "zip                    0.000255\n",
       "state                  0.000214\n",
       "license number         0.000087\n",
       "inspection type        0.000005\n",
       "dtype: float64"
      ]
     },
     "execution_count": 80,
     "metadata": {},
     "output_type": "execute_result"
    }
   ],
   "source": [
    "missg_val"
   ]
  },
  {
   "cell_type": "markdown",
   "metadata": {},
   "source": [
    "We observe that there is exactly the same number of missing values for location, longitude and latitude. We also know that the location information is just the merge of the two longitude and latitude information. We found a library that would help us to recover the longitude and latitude information based on the address.   \n",
    "\n",
    "However, it seems that there are errors or unprecisions in the address of the restaurants that have unkown location. As a consequence, the geopy library is not powerfull enough to retrieve the location based on those uncorrect addresses. We show an exemple right bellow"
   ]
  },
  {
   "cell_type": "code",
   "execution_count": 81,
   "metadata": {},
   "outputs": [
    {
     "data": {
      "text/html": [
       "<div>\n",
       "<style scoped>\n",
       "    .dataframe tbody tr th:only-of-type {\n",
       "        vertical-align: middle;\n",
       "    }\n",
       "\n",
       "    .dataframe tbody tr th {\n",
       "        vertical-align: top;\n",
       "    }\n",
       "\n",
       "    .dataframe thead th {\n",
       "        text-align: right;\n",
       "    }\n",
       "</style>\n",
       "<table border=\"1\" class=\"dataframe\">\n",
       "  <thead>\n",
       "    <tr style=\"text-align: right;\">\n",
       "      <th></th>\n",
       "      <th>inspection id</th>\n",
       "      <th>license number</th>\n",
       "      <th>facility type</th>\n",
       "      <th>risk</th>\n",
       "      <th>address</th>\n",
       "      <th>city</th>\n",
       "      <th>state</th>\n",
       "      <th>zip</th>\n",
       "      <th>inspection date</th>\n",
       "      <th>inspection type</th>\n",
       "      <th>result</th>\n",
       "      <th>violations</th>\n",
       "      <th>latitude</th>\n",
       "      <th>longitude</th>\n",
       "      <th>location</th>\n",
       "      <th>restaurant name</th>\n",
       "    </tr>\n",
       "  </thead>\n",
       "  <tbody>\n",
       "    <tr>\n",
       "      <th>150</th>\n",
       "      <td>2345633</td>\n",
       "      <td>2578370.0</td>\n",
       "      <td>Restaurant</td>\n",
       "      <td>Risk 2 (Medium)</td>\n",
       "      <td>2009 S LAFIN ST</td>\n",
       "      <td>CHICAGO</td>\n",
       "      <td>IL</td>\n",
       "      <td>60608.0</td>\n",
       "      <td>2019-11-14T00:00:00.000</td>\n",
       "      <td>License Re-Inspection</td>\n",
       "      <td>Pass w/ Conditions</td>\n",
       "      <td>3. MANAGEMENT, FOOD EMPLOYEE AND CONDITIONAL E...</td>\n",
       "      <td>NaN</td>\n",
       "      <td>NaN</td>\n",
       "      <td>NaN</td>\n",
       "      <td>VEENO</td>\n",
       "    </tr>\n",
       "    <tr>\n",
       "      <th>1526</th>\n",
       "      <td>2315463</td>\n",
       "      <td>2578370.0</td>\n",
       "      <td>Restaurant</td>\n",
       "      <td>Risk 2 (Medium)</td>\n",
       "      <td>2009 S LAFIN ST</td>\n",
       "      <td>CHICAGO</td>\n",
       "      <td>IL</td>\n",
       "      <td>60608.0</td>\n",
       "      <td>2019-10-08T00:00:00.000</td>\n",
       "      <td>License</td>\n",
       "      <td>Fail</td>\n",
       "      <td>3. MANAGEMENT, FOOD EMPLOYEE AND CONDITIONAL E...</td>\n",
       "      <td>NaN</td>\n",
       "      <td>NaN</td>\n",
       "      <td>NaN</td>\n",
       "      <td>VEENO</td>\n",
       "    </tr>\n",
       "  </tbody>\n",
       "</table>\n",
       "</div>"
      ],
      "text/plain": [
       "      inspection id  license number facility type             risk  \\\n",
       "150         2345633       2578370.0    Restaurant  Risk 2 (Medium)   \n",
       "1526        2315463       2578370.0    Restaurant  Risk 2 (Medium)   \n",
       "\n",
       "               address     city state      zip          inspection date  \\\n",
       "150   2009 S LAFIN ST   CHICAGO    IL  60608.0  2019-11-14T00:00:00.000   \n",
       "1526  2009 S LAFIN ST   CHICAGO    IL  60608.0  2019-10-08T00:00:00.000   \n",
       "\n",
       "            inspection type              result  \\\n",
       "150   License Re-Inspection  Pass w/ Conditions   \n",
       "1526                License                Fail   \n",
       "\n",
       "                                             violations  latitude  longitude  \\\n",
       "150   3. MANAGEMENT, FOOD EMPLOYEE AND CONDITIONAL E...       NaN        NaN   \n",
       "1526  3. MANAGEMENT, FOOD EMPLOYEE AND CONDITIONAL E...       NaN        NaN   \n",
       "\n",
       "     location restaurant name  \n",
       "150       NaN           VEENO  \n",
       "1526      NaN           VEENO  "
      ]
     },
     "execution_count": 81,
     "metadata": {},
     "output_type": "execute_result"
    }
   ],
   "source": [
    "fi_df[fi_df['address'] == '2009 S LAFIN ST ']"
   ]
  },
  {
   "cell_type": "markdown",
   "metadata": {},
   "source": [
    "In this example we can see that the restaurants with this address have nan location/latitude/longitude. Let's try to find this informations with geopy."
   ]
  },
  {
   "cell_type": "code",
   "execution_count": 82,
   "metadata": {},
   "outputs": [],
   "source": [
    "geolocator = Nominatim(user_agent = 'project_ADA')"
   ]
  },
  {
   "cell_type": "code",
   "execution_count": 83,
   "metadata": {},
   "outputs": [
    {
     "name": "stdout",
     "output_type": "stream",
     "text": [
      "Lafin Street, Bayside Lakes, Palm Bay, Brevard County, Florida, 32908-1206, United States\n"
     ]
    }
   ],
   "source": [
    "location = geolocator.geocode('2009 S LAFIN ST ')\n",
    "print(location)"
   ]
  },
  {
   "cell_type": "markdown",
   "metadata": {},
   "source": [
    "It finds a result that is actually located in Palm Bay Florida. If we try to precise the city in the address :"
   ]
  },
  {
   "cell_type": "code",
   "execution_count": 84,
   "metadata": {},
   "outputs": [
    {
     "name": "stdout",
     "output_type": "stream",
     "text": [
      "None\n"
     ]
    }
   ],
   "source": [
    "location = geolocator.geocode('2009 S LAFIN ST Chicago')\n",
    "print(location)"
   ]
  },
  {
   "cell_type": "markdown",
   "metadata": {},
   "source": [
    "It doesn't find any location in Chicago. By looking in Google, we noticed that there is an error in the address. If we correct it we obtain a relevent location."
   ]
  },
  {
   "cell_type": "code",
   "execution_count": 85,
   "metadata": {},
   "outputs": [
    {
     "name": "stdout",
     "output_type": "stream",
     "text": [
      "2009, South Laflin Street, Lower West Side, Chicago, Cook County, Illinois, 60608, United States of America\n"
     ]
    }
   ],
   "source": [
    "location = geolocator.geocode('2009 S LAFLIN ST Chicago')\n",
    "print(location)"
   ]
  },
  {
   "cell_type": "markdown",
   "metadata": {},
   "source": [
    "However those kind of errors or misunderstandings can be correctly automatically. So we abandoned the idea of recovering the location with geopy and decided to remove the rows with unknown location."
   ]
  },
  {
   "cell_type": "code",
   "execution_count": 86,
   "metadata": {},
   "outputs": [],
   "source": [
    "fi_df=fi_df.dropna(subset=['latitude', 'longitude', 'location'], how = \"any\")"
   ]
  },
  {
   "cell_type": "markdown",
   "metadata": {},
   "source": [
    "We also wants to directly retrieve float values of both longitude and latitude directly from the 'location' column then it would be more convenient when retrieving those data for maps plotting."
   ]
  },
  {
   "cell_type": "code",
   "execution_count": 87,
   "metadata": {},
   "outputs": [],
   "source": [
    "def get_location(string):\n",
    "    groups = re.findall('-*[0-9]+.[0-9]+', string) #look at patterns matching longitude and lattitude formats in strings\n",
    "    return [groups[0], groups[1]] #return an array containing (lattitude,longitude) couples\n",
    "                             \n",
    "fi_df['location'] = fi_df.location.apply(lambda x: get_location(x))"
   ]
  },
  {
   "cell_type": "code",
   "execution_count": 88,
   "metadata": {},
   "outputs": [
    {
     "data": {
      "text/html": [
       "<div>\n",
       "<style scoped>\n",
       "    .dataframe tbody tr th:only-of-type {\n",
       "        vertical-align: middle;\n",
       "    }\n",
       "\n",
       "    .dataframe tbody tr th {\n",
       "        vertical-align: top;\n",
       "    }\n",
       "\n",
       "    .dataframe thead th {\n",
       "        text-align: right;\n",
       "    }\n",
       "</style>\n",
       "<table border=\"1\" class=\"dataframe\">\n",
       "  <thead>\n",
       "    <tr style=\"text-align: right;\">\n",
       "      <th></th>\n",
       "      <th>inspection id</th>\n",
       "      <th>license number</th>\n",
       "      <th>facility type</th>\n",
       "      <th>risk</th>\n",
       "      <th>address</th>\n",
       "      <th>city</th>\n",
       "      <th>state</th>\n",
       "      <th>zip</th>\n",
       "      <th>inspection date</th>\n",
       "      <th>inspection type</th>\n",
       "      <th>result</th>\n",
       "      <th>violations</th>\n",
       "      <th>latitude</th>\n",
       "      <th>longitude</th>\n",
       "      <th>location</th>\n",
       "      <th>restaurant name</th>\n",
       "    </tr>\n",
       "  </thead>\n",
       "  <tbody>\n",
       "    <tr>\n",
       "      <th>0</th>\n",
       "      <td>2345969</td>\n",
       "      <td>2215931.0</td>\n",
       "      <td>Children's Services Facility</td>\n",
       "      <td>Risk 1 (High)</td>\n",
       "      <td>3344 W 79TH ST</td>\n",
       "      <td>CHICAGO</td>\n",
       "      <td>IL</td>\n",
       "      <td>60652.0</td>\n",
       "      <td>2019-11-20T00:00:00.000</td>\n",
       "      <td>License</td>\n",
       "      <td>Pass w/ Conditions</td>\n",
       "      <td>3. MANAGEMENT, FOOD EMPLOYEE AND CONDITIONAL E...</td>\n",
       "      <td>41.749915</td>\n",
       "      <td>-87.706628</td>\n",
       "      <td>[41.749914910076974, -87.7066283407442]</td>\n",
       "      <td>LORDANCHILD CHRISTIAN DAY CARE INC.</td>\n",
       "    </tr>\n",
       "  </tbody>\n",
       "</table>\n",
       "</div>"
      ],
      "text/plain": [
       "   inspection id  license number                 facility type           risk  \\\n",
       "0        2345969       2215931.0  Children's Services Facility  Risk 1 (High)   \n",
       "\n",
       "           address     city state      zip          inspection date  \\\n",
       "0  3344 W 79TH ST   CHICAGO    IL  60652.0  2019-11-20T00:00:00.000   \n",
       "\n",
       "  inspection type              result  \\\n",
       "0         License  Pass w/ Conditions   \n",
       "\n",
       "                                          violations   latitude  longitude  \\\n",
       "0  3. MANAGEMENT, FOOD EMPLOYEE AND CONDITIONAL E...  41.749915 -87.706628   \n",
       "\n",
       "                                  location  \\\n",
       "0  [41.749914910076974, -87.7066283407442]   \n",
       "\n",
       "                       restaurant name  \n",
       "0  LORDANCHILD CHRISTIAN DAY CARE INC.  "
      ]
     },
     "execution_count": 88,
     "metadata": {},
     "output_type": "execute_result"
    }
   ],
   "source": [
    "fi_df.head(1)"
   ]
  },
  {
   "cell_type": "code",
   "execution_count": 89,
   "metadata": {},
   "outputs": [
    {
     "data": {
      "text/plain": [
       "<matplotlib.axes._subplots.AxesSubplot at 0x209a73b40c8>"
      ]
     },
     "execution_count": 89,
     "metadata": {},
     "output_type": "execute_result"
    },
    {
     "data": {
      "image/png": "[encoded data removed]",
      "text/plain": [
       "<Figure size 432x288 with 1 Axes>"
      ]
     },
     "metadata": {
      "needs_background": "light"
     },
     "output_type": "display_data"
    }
   ],
   "source": [
    "plot_nan()"
   ]
  },
  {
   "cell_type": "markdown",
   "metadata": {},
   "source": [
    "#### 1.1.2.4 FACILITY TYPE\n",
    "\n"
   ]
  },
  {
   "cell_type": "markdown",
   "metadata": {},
   "source": [
    "A lot of kind of facility types exist in the dataset. However not every one of them interests us"
   ]
  },
  {
   "cell_type": "code",
   "execution_count": 90,
   "metadata": {},
   "outputs": [
    {
     "data": {
      "text/plain": [
       "restaurant                      113435\n",
       "grocery store                    21631\n",
       "school                           11456\n",
       "children's services facility      2904\n",
       "bakery                            2504\n",
       "                                 ...  \n",
       "(convenience store)                  1\n",
       "service gas station                  1\n",
       "incubator                            1\n",
       "dollar store selling grocery         1\n",
       "drug store                           1\n",
       "Name: facility type, Length: 418, dtype: int64"
      ]
     },
     "execution_count": 90,
     "metadata": {},
     "output_type": "execute_result"
    }
   ],
   "source": [
    "fi_df['facility type'] = fi_df['facility type'].str.lower().fillna('unknown')\n",
    "fi_df['facility type'].value_counts()"
   ]
  },
  {
   "cell_type": "markdown",
   "metadata": {},
   "source": [
    "For example, schools doesn't interest us. Furthermore, some words seems to be recurrent such as 'store'. So before removing facility types we don't want, we would regroup them into groups and remove the created categories that are not interested.\n",
    "The idea is to use a semantic distance between facility type to regroup to ones close to each other. In order to proceed, we retrieve the main facilities, such as 'restaurant' that will absorb the less represented one to create clusters. "
   ]
  },
  {
   "cell_type": "code",
   "execution_count": 91,
   "metadata": {},
   "outputs": [
    {
     "data": {
      "text/plain": [
       "418"
      ]
     },
     "execution_count": 91,
     "metadata": {},
     "output_type": "execute_result"
    }
   ],
   "source": [
    "len(fi_df['facility type'].unique())\n"
   ]
  },
  {
   "cell_type": "markdown",
   "metadata": {},
   "source": [
    "if we take the 10% most represented facilities, we would end up with ~40 categories that seems to be correct."
   ]
  },
  {
   "cell_type": "code",
   "execution_count": 26,
   "metadata": {},
   "outputs": [],
   "source": [
    "quantile = fi_df['facility type'].value_counts().quantile([0.9])"
   ]
  },
  {
   "cell_type": "code",
   "execution_count": 92,
   "metadata": {},
   "outputs": [],
   "source": [
    "vc = fi_df['facility type'].value_counts()\n",
    "main_categories = vc[vc >= quantile[0.9]].index.to_list()\n",
    "others = vc[vc < quantile[0.9]].index.to_list()"
   ]
  },
  {
   "cell_type": "markdown",
   "metadata": {},
   "source": [
    "We make sure we don't have any duplicated facility"
   ]
  },
  {
   "cell_type": "code",
   "execution_count": 94,
   "metadata": {},
   "outputs": [
    {
     "data": {
      "text/plain": [
       "set()"
      ]
     },
     "execution_count": 94,
     "metadata": {},
     "output_type": "execute_result"
    }
   ],
   "source": [
    "set(main_categories).intersection(set(others))"
   ]
  },
  {
   "cell_type": "code",
   "execution_count": 95,
   "metadata": {},
   "outputs": [],
   "source": [
    "from pyjarowinkler import distance\n",
    "\n",
    "sc = dict()\n",
    "for i in others:\n",
    "    distances = []\n",
    "    for j in main_categories:\n",
    "        distances.append(distance.get_jaro_distance(i,j))\n",
    "    sc[i] = main_categories[np.argmax(distances)]\n"
   ]
  },
  {
   "cell_type": "code",
   "execution_count": 96,
   "metadata": {},
   "outputs": [],
   "source": [
    "def get_fc(x):\n",
    "    if x in main_categories:\n",
    "        return x\n",
    "    else:\n",
    "        return sc[x]"
   ]
  },
  {
   "cell_type": "code",
   "execution_count": 97,
   "metadata": {},
   "outputs": [],
   "source": [
    "fi_df['facility type'] = fi_df['facility type'].apply(lambda x : get_fc(x))"
   ]
  },
  {
   "cell_type": "code",
   "execution_count": 98,
   "metadata": {},
   "outputs": [
    {
     "data": {
      "text/plain": [
       "restaurant                          113665\n",
       "grocery store                        21832\n",
       "school                               11471\n",
       "children's services facility          3052\n",
       "bakery                                2566\n",
       "daycare (2 - 6 years)                 2358\n",
       "daycare above and under 2 years       2222\n",
       "long term care                        1341\n",
       "catering                              1028\n",
       "liquor                                 739\n",
       "mobile food dispenser                  688\n",
       "daycare combo 1586                     644\n",
       "mobile food preparer                   549\n",
       "golden diner                           546\n",
       "wholesale                              512\n",
       "hospital                               509\n",
       "unknown                                308\n",
       "tavern                                 291\n",
       "daycare (under 2 years)                235\n",
       "gas station                            226\n",
       "special event                          223\n",
       "charter school                         203\n",
       "shared kitchen user (long term)        199\n",
       "shelter                                165\n",
       "banquet hall                           161\n",
       "convenience store                      160\n",
       "shared kitchen                         146\n",
       "grocery/restaurant                     135\n",
       "mobile prepared food vendor            122\n",
       "private school                         115\n",
       "kiosk                                  108\n",
       "live poultry                           103\n",
       "banquet                                 99\n",
       "convenience                             93\n",
       "church                                  93\n",
       "mobile frozen desserts vendor           90\n",
       "cafeteria                               89\n",
       "stadium                                 76\n",
       "daycare                                 74\n",
       "shared kitchen user (short term)        67\n",
       "navy pier kiosk                         66\n",
       "daycare (2 years)                       48\n",
       "Name: facility type, dtype: int64"
      ]
     },
     "execution_count": 98,
     "metadata": {},
     "output_type": "execute_result"
    }
   ],
   "source": [
    "fi_df['facility type'].value_counts()"
   ]
  },
  {
   "cell_type": "code",
   "execution_count": 99,
   "metadata": {},
   "outputs": [
    {
     "data": {
      "text/plain": [
       "<matplotlib.axes._subplots.AxesSubplot at 0x209ba28c348>"
      ]
     },
     "execution_count": 99,
     "metadata": {},
     "output_type": "execute_result"
    },
    {
     "data": {
      "image/png": "[encoded data removed]",
      "text/plain": [
       "<Figure size 432x288 with 1 Axes>"
      ]
     },
     "metadata": {
      "needs_background": "light"
     },
     "output_type": "display_data"
    }
   ],
   "source": [
    "plot_nan()"
   ]
  },
  {
   "cell_type": "markdown",
   "metadata": {},
   "source": [
    "#### 1.1.2.5 CITY / STATE"
   ]
  },
  {
   "cell_type": "code",
   "execution_count": 100,
   "metadata": {},
   "outputs": [],
   "source": [
    "fi_df['city'] = np.where(fi_df['city'].isnull(), 'CHICAGO', fi_df['city'])\n",
    "fi_df['state'] = np.where(fi_df['state'].isnull(), 'IL', fi_df['state'])"
   ]
  },
  {
   "cell_type": "markdown",
   "metadata": {},
   "source": [
    "#### 1.1.2.6 LICENSE NUMBER\n",
    "\n",
    "The inspections are done for a given license of an establishment."
   ]
  },
  {
   "cell_type": "code",
   "execution_count": 101,
   "metadata": {},
   "outputs": [
    {
     "data": {
      "text/plain": [
       "array(['ST. DEMETRIOS CHURCH', \"OLD ST. PATRICK'S CHURCH\",\n",
       "       \"GOD'S BATTLE AXE PRAYER ACADEMY\", 'ST DEMETRIOS CHURCH'],\n",
       "      dtype=object)"
      ]
     },
     "execution_count": 101,
     "metadata": {},
     "output_type": "execute_result"
    }
   ],
   "source": [
    "fi_df[fi_df['license number'].isnull()]['restaurant name'].unique()"
   ]
  },
  {
   "cell_type": "markdown",
   "metadata": {},
   "source": [
    "The missing values are for the same religious establishments. They won't interest us for the study so we can drop them."
   ]
  },
  {
   "cell_type": "code",
   "execution_count": 102,
   "metadata": {},
   "outputs": [],
   "source": [
    "fi_df.dropna(subset = ['license number'], inplace = True)"
   ]
  },
  {
   "cell_type": "code",
   "execution_count": 103,
   "metadata": {},
   "outputs": [
    {
     "data": {
      "text/plain": [
       "<matplotlib.axes._subplots.AxesSubplot at 0x209a6769308>"
      ]
     },
     "execution_count": 103,
     "metadata": {},
     "output_type": "execute_result"
    },
    {
     "data": {
      "image/png": "[encoded data removed]",
      "text/plain": [
       "<Figure size 432x288 with 1 Axes>"
      ]
     },
     "metadata": {
      "needs_background": "light"
     },
     "output_type": "display_data"
    }
   ],
   "source": [
    "plot_nan()"
   ]
  },
  {
   "cell_type": "markdown",
   "metadata": {},
   "source": [
    "#### 1.1.2.7 ZIP / INSPECTION TYPE / ZIP"
   ]
  },
  {
   "cell_type": "code",
   "execution_count": 104,
   "metadata": {},
   "outputs": [],
   "source": [
    "fi_df.dropna(subset = ['zip','inspection type','risk'], inplace = True)"
   ]
  },
  {
   "cell_type": "markdown",
   "metadata": {},
   "source": [
    "### 1.1.3 Treating columns\n",
    "\n",
    "#### 1.1.3.1 "
   ]
  },
  {
   "cell_type": "code",
   "execution_count": 105,
   "metadata": {},
   "outputs": [
    {
     "data": {
      "text/plain": [
       "array(['Pass w/ Conditions', 'Fail', 'Pass', 'No Entry', 'Not Ready',\n",
       "       'Out of Business'], dtype=object)"
      ]
     },
     "execution_count": 105,
     "metadata": {},
     "output_type": "execute_result"
    }
   ],
   "source": [
    "fi_df['result'].unique()"
   ]
  },
  {
   "cell_type": "markdown",
   "metadata": {},
   "source": [
    "Our research focuses on the city Chicago, our dataset however contains numerous other locations which we have to discard."
   ]
  },
  {
   "cell_type": "code",
   "execution_count": 107,
   "metadata": {},
   "outputs": [
    {
     "data": {
      "text/plain": [
       "array(['CHICAGO', 'Chicago', 'CCHICAGO', 'CHICAGO.', 'CHESTNUT STREET',\n",
       "       'CHICAGOCHICAGO', 'chicago', 'CHICAGOHICAGO', 'CHicago',\n",
       "       '312CHICAGO', 'BEDFORD PARK', 'CHCHICAGO', 'SUMMIT', 'LOMBARD',\n",
       "       'CHICAGOI', 'BLUE ISLAND', 'CHARLES A HAYES', 'CHCICAGO'],\n",
       "      dtype=object)"
      ]
     },
     "execution_count": 107,
     "metadata": {},
     "output_type": "execute_result"
    }
   ],
   "source": [
    "fi_df['city'].unique()"
   ]
  },
  {
   "cell_type": "markdown",
   "metadata": {},
   "source": [
    "It seems that many suburban areas are referenced as the city of the restaurant associated to the inspection. However, some of those suburbs are located too far from Chicago. As a consequence we decided to focus excusively on the location referenced in Chicago."
   ]
  },
  {
   "cell_type": "markdown",
   "metadata": {},
   "source": [
    "We notice that there are differents cities refered in the dataframe. Furthermore, we notice that the chicago city is not correctly referenced: \"CHICAGOCHICAGO\",\"CHICAGO.\", etc.\n",
    "It also seems that some locations are refered as cities. Those locations could be in Chicago."
   ]
  },
  {
   "cell_type": "markdown",
   "metadata": {},
   "source": [
    "Some locations aren't part of Chicago. However we are aware that those locations, such as Oak Lawn or Oak Park, are really close to the city. So the question is, should we have to keep it or not..."
   ]
  },
  {
   "cell_type": "code",
   "execution_count": 108,
   "metadata": {},
   "outputs": [
    {
     "name": "stdout",
     "output_type": "stream",
     "text": [
      "the location referenced in chicago represents 0.998 % of the dataset\n"
     ]
    }
   ],
   "source": [
    "def isChicago(x):\n",
    "    if re.search('.*CHICAGO.*', x):\n",
    "        return True\n",
    "    return False\n",
    "\n",
    "print('the location referenced in chicago represents {0:.3f} % of the dataset'.format(fi_df[fi_df['city'].apply(lambda x: isChicago(str(x)))].shape[0]/fi_df.shape[0]))"
   ]
  },
  {
   "cell_type": "markdown",
   "metadata": {},
   "source": [
    "This ratio shows that removing the other rows referenced in other location won't impact the integrity of the dataset."
   ]
  },
  {
   "cell_type": "code",
   "execution_count": 109,
   "metadata": {},
   "outputs": [
    {
     "data": {
      "text/plain": [
       "array(['Chicago', 'CHESTNUT STREET', 'chicago', 'CHicago', 'BEDFORD PARK',\n",
       "       'SUMMIT', 'LOMBARD', 'BLUE ISLAND', 'CHARLES A HAYES', 'CHCICAGO'],\n",
       "      dtype=object)"
      ]
     },
     "execution_count": 109,
     "metadata": {},
     "output_type": "execute_result"
    }
   ],
   "source": [
    "temp =  fi_df[fi_df['city'].apply(lambda x: not(isChicago(str(x))))]\n",
    "temp['city'].unique()"
   ]
  },
  {
   "cell_type": "code",
   "execution_count": 110,
   "metadata": {},
   "outputs": [],
   "source": [
    "zips_chicago = set(temp.zip.unique())"
   ]
  },
  {
   "cell_type": "code",
   "execution_count": 111,
   "metadata": {},
   "outputs": [],
   "source": [
    "inChicago = fi_df['city'].apply(lambda x : isChicago(str(x))) | fi_df['zip'].apply(lambda x : x in zips_chicago)"
   ]
  },
  {
   "cell_type": "code",
   "execution_count": 112,
   "metadata": {},
   "outputs": [],
   "source": [
    "fi_df['city'] = np.where(inChicago, 'CHICAGO', 'ELSEWHERE')"
   ]
  },
  {
   "cell_type": "code",
   "execution_count": 113,
   "metadata": {},
   "outputs": [
    {
     "data": {
      "text/plain": [
       "array(['CHICAGO'], dtype=object)"
      ]
     },
     "execution_count": 113,
     "metadata": {},
     "output_type": "execute_result"
    }
   ],
   "source": [
    "fi_df['city'].unique()"
   ]
  },
  {
   "cell_type": "markdown",
   "metadata": {},
   "source": [
    "Now that we have all restaurants from the city Chicago, we can now drop this column"
   ]
  },
  {
   "cell_type": "markdown",
   "metadata": {},
   "source": [
    "### Facility types"
   ]
  },
  {
   "cell_type": "markdown",
   "metadata": {},
   "source": [
    "First we consider the facility types, we are in the skin of a tourist or any other person looking for a place to eat in Chicago. So the facility types such as churches, schools, hospitals etc. are not taken into consideration."
   ]
  },
  {
   "cell_type": "code",
   "execution_count": 114,
   "metadata": {},
   "outputs": [],
   "source": [
    "def get_cv(serie):\n",
    "    tmp = serie.value_counts()\n",
    "    return tmp.tolist(), tmp.keys().tolist()"
   ]
  },
  {
   "cell_type": "code",
   "execution_count": 115,
   "metadata": {},
   "outputs": [],
   "source": [
    "facility_count, facility_key = get_cv(fi_df['facility type'])"
   ]
  },
  {
   "cell_type": "code",
   "execution_count": 116,
   "metadata": {},
   "outputs": [],
   "source": [
    "def merge_minorities(counts, keys, size):\n",
    "    labels = []\n",
    "    m_counts = []\n",
    "    minorities_count = 0\n",
    "    percent_ref = 0.01 * size\n",
    "    for c, l in zip(counts, keys):\n",
    "        if c < percent_ref:\n",
    "            minorities_count += c\n",
    "        else:\n",
    "            labels.append(l)\n",
    "            m_counts.append(c)\n",
    "    labels.append('others')\n",
    "    m_counts.append(minorities_count)\n",
    "    return m_counts, labels"
   ]
  },
  {
   "cell_type": "code",
   "execution_count": 117,
   "metadata": {},
   "outputs": [],
   "source": [
    "counts, labels = merge_minorities(facility_count, facility_key, fi_df.shape[0])"
   ]
  },
  {
   "cell_type": "code",
   "execution_count": 118,
   "metadata": {},
   "outputs": [
    {
     "data": {
      "image/png": "[encoded data removed]",
      "text/plain": [
       "<Figure size 432x288 with 1 Axes>"
      ]
     },
     "metadata": {},
     "output_type": "display_data"
    }
   ],
   "source": [
    "m_circle = plt.Circle((0,0), 0.7, color = \"white\")\n",
    "plt.pie(counts, labels = labels, autopct='%1.0f%%', pctdistance=1.2, labeldistance=1.4)\n",
    "p = plt.gcf()\n",
    "p.gca().add_artist(m_circle)\n",
    "plt.show()"
   ]
  },
  {
   "cell_type": "markdown",
   "metadata": {},
   "source": [
    "We can see that some facilities represented in this dataset is irrelevent for our problematic such as Schools, Children's Services, Daycare... So we want to keep the facilities that target people for buying food at their places. "
   ]
  },
  {
   "cell_type": "code",
   "execution_count": 119,
   "metadata": {},
   "outputs": [],
   "source": [
    "#2. drop all values that aren't litterals\n",
    "fi_df['facility type']=fi_df['facility type'].astype(str)\n",
    "\n",
    "non_numerical_ft=fi_df['facility type'].apply(lambda f: not f.isdigit())\n",
    "fi_df=fi_df[non_numerical_ft]\n",
    "\n",
    "#3. keep only facility types of interest\n",
    "#discarded_facilities=['care','hospital','church','gas','children','kiosk','store','school','kitchen','facility','wholesale'];\n",
    "interest=['restaurant','bakery','diner','roof','mobile','bar','diner','breakfast','lounge','grill','tavern', 'store', 'wholesale']\n",
    "facility_column=fi_df['facility type'].copy().apply(lambda c: c.lower()).apply(lambda c: any( w in c for w in interest))\n",
    "fi_df=fi_df[facility_column]\n",
    "fi_df['facility type'] = fi_df['facility type'].apply(lambda c: c.lower())\n"
   ]
  },
  {
   "cell_type": "code",
   "execution_count": 120,
   "metadata": {},
   "outputs": [
    {
     "data": {
      "image/png": "[encoded data removed]",
      "text/plain": [
       "<Figure size 432x288 with 1 Axes>"
      ]
     },
     "metadata": {},
     "output_type": "display_data"
    }
   ],
   "source": [
    "facility_count, facility_key = get_cv(fi_df['facility type'])\n",
    "counts, labels = merge_minorities(facility_count, facility_key, fi_df.shape[0])\n",
    "m_circle = plt.Circle((0,0), 0.7, color = \"white\")\n",
    "plt.pie(counts, labels = labels, autopct='%1.0f%%', pctdistance=1.2, labeldistance=1.4)\n",
    "p = plt.gcf()\n",
    "p.gca().add_artist(m_circle)\n",
    "plt.show()"
   ]
  },
  {
   "cell_type": "markdown",
   "metadata": {},
   "source": [
    "Now we have kept facilities that seems to correspond to our problematic."
   ]
  },
  {
   "cell_type": "markdown",
   "metadata": {},
   "source": [
    "#### RISK"
   ]
  },
  {
   "cell_type": "code",
   "execution_count": 121,
   "metadata": {},
   "outputs": [
    {
     "data": {
      "text/plain": [
       "array(['Risk 2 (Medium)', 'Risk 1 (High)', 'Risk 3 (Low)'], dtype=object)"
      ]
     },
     "execution_count": 121,
     "metadata": {},
     "output_type": "execute_result"
    }
   ],
   "source": [
    "risk_val = dict()\n",
    "y = fi_df.risk.unique()\n",
    "y"
   ]
  },
  {
   "cell_type": "code",
   "execution_count": 122,
   "metadata": {},
   "outputs": [],
   "source": [
    "risk_val[y[0]] = 1\n",
    "risk_val[y[1]] = 2\n",
    "risk_val[y[2]] = 0.5\n",
    "fi_df['numerical_risk'] = fi_df.risk.apply(lambda x : risk_val[x])"
   ]
  },
  {
   "cell_type": "markdown",
   "metadata": {},
   "source": [
    "#### inspections id"
   ]
  },
  {
   "cell_type": "code",
   "execution_count": 123,
   "metadata": {},
   "outputs": [
    {
     "data": {
      "text/plain": [
       "False"
      ]
     },
     "execution_count": 123,
     "metadata": {},
     "output_type": "execute_result"
    }
   ],
   "source": [
    "fi_df['inspection id'].is_unique"
   ]
  },
  {
   "cell_type": "code",
   "execution_count": 124,
   "metadata": {},
   "outputs": [],
   "source": [
    "doublons = fi_df['inspection id'].value_counts()\n",
    "doublons = doublons[doublons > 1]"
   ]
  },
  {
   "cell_type": "code",
   "execution_count": 125,
   "metadata": {},
   "outputs": [],
   "source": [
    "fi_df = fi_df[fi_df['inspection id'].apply(lambda x: not(x in doublons))]"
   ]
  },
  {
   "cell_type": "markdown",
   "metadata": {},
   "source": [
    "#### restaurant name"
   ]
  },
  {
   "cell_type": "markdown",
   "metadata": {},
   "source": [
    "We remember that the dataset in inspection oriented. Also, the same restaurant can pass many inspections over the years, can fail some of them and pass the others. Also we observed that the same restaurant can have different license numbers."
   ]
  },
  {
   "cell_type": "code",
   "execution_count": 126,
   "metadata": {},
   "outputs": [
    {
     "data": {
      "text/plain": [
       "address\n",
       "1 E 83RD ST            22\n",
       "100 W 87TH ST          14\n",
       "100 W RANDOLPH ST      13\n",
       "1014 S WESTERN AVE     14\n",
       "1020 W BELMONT AVE     17\n",
       "Name: license number, dtype: int64"
      ]
     },
     "execution_count": 126,
     "metadata": {},
     "output_type": "execute_result"
    }
   ],
   "source": [
    "fi_df[fi_df['restaurant name'] == 'SUBWAY'].groupby('address')['license number'].agg('count').head()"
   ]
  },
  {
   "cell_type": "markdown",
   "metadata": {},
   "source": [
    "It also shows that a name can be shared by many restaurant. A location can also be shared by different brands. As a consequence, we have to find a way to differenciate each restaurant by its location in a single column. "
   ]
  },
  {
   "cell_type": "code",
   "execution_count": 127,
   "metadata": {},
   "outputs": [],
   "source": [
    "#merge restaurant name with address to identify the unique restaurant at a place\n",
    "fi_df['name'] = fi_df.apply(lambda row : row['restaurant name'] + ' ' + row['address'], axis = 1)"
   ]
  },
  {
   "cell_type": "markdown",
   "metadata": {},
   "source": [
    "#### license number doublons"
   ]
  },
  {
   "cell_type": "code",
   "execution_count": 128,
   "metadata": {},
   "outputs": [],
   "source": [
    "doublons = fi_df.groupby('license number').agg({'name':pd.Series.nunique})\n",
    "doublons = doublons[doublons['name'] > 1.].index.tolist()\n",
    "fi_df = fi_df[fi_df['license number'].apply(lambda x : not(x in doublons))]"
   ]
  },
  {
   "cell_type": "markdown",
   "metadata": {},
   "source": [
    "# SAVE CLEAN Dataframe"
   ]
  },
  {
   "cell_type": "code",
   "execution_count": 129,
   "metadata": {},
   "outputs": [],
   "source": [
    "fi_df.to_pickle('chicago_df.p')"
   ]
  },
  {
   "cell_type": "code",
   "execution_count": null,
   "metadata": {},
   "outputs": [],
   "source": []
  }
 ],
 "metadata": {
  "kernelspec": {
   "display_name": "Python 3",
   "language": "python",
   "name": "python3"
  },
  "language_info": {
   "codemirror_mode": {
    "name": "ipython",
    "version": 3
   },
   "file_extension": ".py",
   "mimetype": "text/x-python",
   "name": "python",
   "nbconvert_exporter": "python",
   "pygments_lexer": "ipython3",
   "version": "3.7.4"
  }
 },
 "nbformat": 4,
 "nbformat_minor": 4
}
