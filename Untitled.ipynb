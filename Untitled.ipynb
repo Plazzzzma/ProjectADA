{
 "cells": [
  {
   "cell_type": "markdown",
   "metadata": {},
   "source": [
    "# Project ADA - Where to eat in Chicago?\n",
    "## Group prADA\n",
    "\n",
    "### Description\n"
   ]
  },
  {
   "cell_type": "markdown",
   "metadata": {},
   "source": [
    "### 1. Getting a sense of the dataset - Chicagoan health food inspections "
   ]
  },
  {
   "cell_type": "code",
   "execution_count": 1,
   "metadata": {},
   "outputs": [],
   "source": [
    "%matplotlib inline\n",
    "import pandas as pd\n",
    "import numpy as np\n",
    "import re\n",
    "import matplotlib.pyplot as plt\n",
    "import math\n",
    "\n",
    "from requests import get\n",
    "from bs4 import BeautifulSoup"
   ]
  },
  {
   "cell_type": "code",
   "execution_count": 2,
   "metadata": {},
   "outputs": [],
   "source": [
    "fi_df = pd.read_csv('./Data/food-inspections.csv', sep = ',', header = 0, names = ['inspection id', 'restaurant name DBA', 'restaurant name AKA', 'license numer','facility type','risk','address','city','state','zip','inspection date','inspection type','result','violations','latitude','longitude','location','historical','zip codes','commun. areas','census tr.','wards'])\n"
   ]
  },
  {
   "cell_type": "markdown",
   "metadata": {},
   "source": [
    "First, we need to check which columns are usable, a preview on the file hints that some columns might be completely empty as it is the case for the following:"
   ]
  },
  {
   "cell_type": "code",
   "execution_count": 3,
   "metadata": {},
   "outputs": [
    {
     "data": {
      "text/plain": [
       "Series([], Name: historical, dtype: int64)"
      ]
     },
     "execution_count": 3,
     "metadata": {},
     "output_type": "execute_result"
    }
   ],
   "source": [
    "fi_df['historical'].value_counts() #same for  columns: zip codes, community areas, census tracts and wards"
   ]
  },
  {
   "cell_type": "markdown",
   "metadata": {},
   "source": [
    "So we simply remove them since they are of no use for us."
   ]
  },
  {
   "cell_type": "code",
   "execution_count": 4,
   "metadata": {},
   "outputs": [
    {
     "data": {
      "text/html": [
       "<div>\n",
       "<style scoped>\n",
       "    .dataframe tbody tr th:only-of-type {\n",
       "        vertical-align: middle;\n",
       "    }\n",
       "\n",
       "    .dataframe tbody tr th {\n",
       "        vertical-align: top;\n",
       "    }\n",
       "\n",
       "    .dataframe thead th {\n",
       "        text-align: right;\n",
       "    }\n",
       "</style>\n",
       "<table border=\"1\" class=\"dataframe\">\n",
       "  <thead>\n",
       "    <tr style=\"text-align: right;\">\n",
       "      <th></th>\n",
       "      <th>inspection id</th>\n",
       "      <th>restaurant name DBA</th>\n",
       "      <th>restaurant name AKA</th>\n",
       "      <th>license numer</th>\n",
       "      <th>facility type</th>\n",
       "      <th>risk</th>\n",
       "      <th>address</th>\n",
       "      <th>city</th>\n",
       "      <th>state</th>\n",
       "      <th>zip</th>\n",
       "      <th>inspection date</th>\n",
       "      <th>inspection type</th>\n",
       "      <th>result</th>\n",
       "      <th>violations</th>\n",
       "      <th>latitude</th>\n",
       "      <th>longitude</th>\n",
       "      <th>location</th>\n",
       "    </tr>\n",
       "  </thead>\n",
       "  <tbody>\n",
       "    <tr>\n",
       "      <td>0</td>\n",
       "      <td>2321132</td>\n",
       "      <td>HOST INTERNATIONAL INC</td>\n",
       "      <td>VIENNA BEEF/PIZZERIA UNO (T1 C6)</td>\n",
       "      <td>34222.0</td>\n",
       "      <td>Restaurant</td>\n",
       "      <td>Risk 2 (Medium)</td>\n",
       "      <td>11601 W TOUHY AVE</td>\n",
       "      <td>CHICAGO</td>\n",
       "      <td>IL</td>\n",
       "      <td>60666.0</td>\n",
       "      <td>2019-11-06T00:00:00.000</td>\n",
       "      <td>Complaint Re-Inspection</td>\n",
       "      <td>Pass</td>\n",
       "      <td>NaN</td>\n",
       "      <td>42.008536</td>\n",
       "      <td>-87.914428</td>\n",
       "      <td>{'longitude': '42.008536400868735', 'latitude'...</td>\n",
       "    </tr>\n",
       "    <tr>\n",
       "      <td>1</td>\n",
       "      <td>2321127</td>\n",
       "      <td>STARBUCKS</td>\n",
       "      <td>STARBUCKS  (T1  C-07)</td>\n",
       "      <td>2583234.0</td>\n",
       "      <td>Restaurant</td>\n",
       "      <td>Risk 2 (Medium)</td>\n",
       "      <td>11601 W TOUHY AVE</td>\n",
       "      <td>CHICAGO</td>\n",
       "      <td>IL</td>\n",
       "      <td>60666.0</td>\n",
       "      <td>2019-11-06T00:00:00.000</td>\n",
       "      <td>Complaint Re-Inspection</td>\n",
       "      <td>Pass</td>\n",
       "      <td>NaN</td>\n",
       "      <td>42.008536</td>\n",
       "      <td>-87.914428</td>\n",
       "      <td>{'longitude': '42.008536400868735', 'latitude'...</td>\n",
       "    </tr>\n",
       "    <tr>\n",
       "      <td>2</td>\n",
       "      <td>2321168</td>\n",
       "      <td>DUNKIN DONUTS</td>\n",
       "      <td>DUNKIN DONUTS</td>\n",
       "      <td>15623.0</td>\n",
       "      <td>Restaurant</td>\n",
       "      <td>Risk 2 (Medium)</td>\n",
       "      <td>5200 N LINCOLN AVE</td>\n",
       "      <td>CHICAGO</td>\n",
       "      <td>IL</td>\n",
       "      <td>60625.0</td>\n",
       "      <td>2019-11-06T00:00:00.000</td>\n",
       "      <td>Complaint Re-Inspection</td>\n",
       "      <td>Pass</td>\n",
       "      <td>NaN</td>\n",
       "      <td>41.975913</td>\n",
       "      <td>-87.692494</td>\n",
       "      <td>{'longitude': '41.97591289899352', 'latitude':...</td>\n",
       "    </tr>\n",
       "    <tr>\n",
       "      <td>3</td>\n",
       "      <td>2321165</td>\n",
       "      <td>LA HUMITA</td>\n",
       "      <td>LA HUMITA</td>\n",
       "      <td>1622351.0</td>\n",
       "      <td>Restaurant</td>\n",
       "      <td>Risk 1 (High)</td>\n",
       "      <td>3466 N PULASKI RD</td>\n",
       "      <td>CHICAGO</td>\n",
       "      <td>IL</td>\n",
       "      <td>60641.0</td>\n",
       "      <td>2019-11-06T00:00:00.000</td>\n",
       "      <td>Canvass</td>\n",
       "      <td>No Entry</td>\n",
       "      <td>NaN</td>\n",
       "      <td>41.944678</td>\n",
       "      <td>-87.727496</td>\n",
       "      <td>{'longitude': '41.94467795956372', 'latitude':...</td>\n",
       "    </tr>\n",
       "    <tr>\n",
       "      <td>4</td>\n",
       "      <td>2321129</td>\n",
       "      <td>MING BRICKYARD SUPER CHINA BUFFET INC.</td>\n",
       "      <td>SUPER CHINA BUFFET</td>\n",
       "      <td>1490057.0</td>\n",
       "      <td>Restaurant</td>\n",
       "      <td>Risk 1 (High)</td>\n",
       "      <td>2650 N NARRAGANSETT AVE</td>\n",
       "      <td>CHICAGO</td>\n",
       "      <td>IL</td>\n",
       "      <td>60639.0</td>\n",
       "      <td>2019-11-06T00:00:00.000</td>\n",
       "      <td>Complaint</td>\n",
       "      <td>Pass</td>\n",
       "      <td>55. PHYSICAL FACILITIES INSTALLED, MAINTAINED ...</td>\n",
       "      <td>41.928847</td>\n",
       "      <td>-87.785781</td>\n",
       "      <td>{'longitude': '41.928847223323764', 'latitude'...</td>\n",
       "    </tr>\n",
       "    <tr>\n",
       "      <td>5</td>\n",
       "      <td>2321196</td>\n",
       "      <td>SODEXO AMERICA, LLC</td>\n",
       "      <td>UNITED EMPLOYEE CAFETERIA (T1-C MID LEVEL)</td>\n",
       "      <td>2560546.0</td>\n",
       "      <td>Restaurant</td>\n",
       "      <td>Risk 1 (High)</td>\n",
       "      <td>11601 W TOUHY AVE</td>\n",
       "      <td>CHICAGO</td>\n",
       "      <td>IL</td>\n",
       "      <td>60666.0</td>\n",
       "      <td>2019-11-06T00:00:00.000</td>\n",
       "      <td>Canvass</td>\n",
       "      <td>Pass</td>\n",
       "      <td>47. FOOD &amp; NON-FOOD CONTACT SURFACES CLEANABLE...</td>\n",
       "      <td>42.008536</td>\n",
       "      <td>-87.914428</td>\n",
       "      <td>{'longitude': '42.008536400868735', 'latitude'...</td>\n",
       "    </tr>\n",
       "    <tr>\n",
       "      <td>6</td>\n",
       "      <td>2321148</td>\n",
       "      <td>WILLIAM G. HIBBARD ELEMENTARY SCHOOL</td>\n",
       "      <td>WILLIAM G HIBBARD ELEMENTARY SCHOOL</td>\n",
       "      <td>23801.0</td>\n",
       "      <td>School</td>\n",
       "      <td>Risk 1 (High)</td>\n",
       "      <td>3244 W Ainslie ST</td>\n",
       "      <td>CHICAGO</td>\n",
       "      <td>IL</td>\n",
       "      <td>60625.0</td>\n",
       "      <td>2019-11-06T00:00:00.000</td>\n",
       "      <td>Canvass</td>\n",
       "      <td>Pass w/ Conditions</td>\n",
       "      <td>10. ADEQUATE HANDWASHING SINKS PROPERLY SUPPLI...</td>\n",
       "      <td>41.970363</td>\n",
       "      <td>-87.710362</td>\n",
       "      <td>{'longitude': '41.97036267439323', 'latitude':...</td>\n",
       "    </tr>\n",
       "    <tr>\n",
       "      <td>7</td>\n",
       "      <td>2321187</td>\n",
       "      <td>BANG BANG BISCUITS</td>\n",
       "      <td>BANG BANG BISCUITS</td>\n",
       "      <td>2458777.0</td>\n",
       "      <td>Restaurant</td>\n",
       "      <td>Risk 1 (High)</td>\n",
       "      <td>4947 N DAMEN AVE</td>\n",
       "      <td>CHICAGO</td>\n",
       "      <td>IL</td>\n",
       "      <td>60625.0</td>\n",
       "      <td>2019-11-06T00:00:00.000</td>\n",
       "      <td>Canvass</td>\n",
       "      <td>Pass w/ Conditions</td>\n",
       "      <td>3. MANAGEMENT, FOOD EMPLOYEE AND CONDITIONAL E...</td>\n",
       "      <td>41.971969</td>\n",
       "      <td>-87.679136</td>\n",
       "      <td>{'longitude': '41.971969426617925', 'latitude'...</td>\n",
       "    </tr>\n",
       "    <tr>\n",
       "      <td>8</td>\n",
       "      <td>2321166</td>\n",
       "      <td>SUBWAY</td>\n",
       "      <td>SUBWAY</td>\n",
       "      <td>2529116.0</td>\n",
       "      <td>Restaurant</td>\n",
       "      <td>Risk 1 (High)</td>\n",
       "      <td>2620 N NARRAGANSETT AVE</td>\n",
       "      <td>CHICAGO</td>\n",
       "      <td>IL</td>\n",
       "      <td>60639.0</td>\n",
       "      <td>2019-11-06T00:00:00.000</td>\n",
       "      <td>Canvass</td>\n",
       "      <td>Fail</td>\n",
       "      <td>3. MANAGEMENT, FOOD EMPLOYEE AND CONDITIONAL E...</td>\n",
       "      <td>41.927995</td>\n",
       "      <td>-87.785752</td>\n",
       "      <td>{'longitude': '41.92799528871574', 'latitude':...</td>\n",
       "    </tr>\n",
       "    <tr>\n",
       "      <td>9</td>\n",
       "      <td>2321116</td>\n",
       "      <td>Scammon Elementary School</td>\n",
       "      <td>Scammon Elementary School</td>\n",
       "      <td>25241.0</td>\n",
       "      <td>School</td>\n",
       "      <td>Risk 1 (High)</td>\n",
       "      <td>4201 W Henderson (3332N)</td>\n",
       "      <td>CHICAGO</td>\n",
       "      <td>IL</td>\n",
       "      <td>60641.0</td>\n",
       "      <td>2019-11-06T00:00:00.000</td>\n",
       "      <td>Canvass</td>\n",
       "      <td>Fail</td>\n",
       "      <td>10. ADEQUATE HANDWASHING SINKS PROPERLY SUPPLI...</td>\n",
       "      <td>41.941649</td>\n",
       "      <td>-87.732229</td>\n",
       "      <td>{'longitude': '41.941649437310005', 'latitude'...</td>\n",
       "    </tr>\n",
       "  </tbody>\n",
       "</table>\n",
       "</div>"
      ],
      "text/plain": [
       "   inspection id                     restaurant name DBA  \\\n",
       "0        2321132                  HOST INTERNATIONAL INC   \n",
       "1        2321127                               STARBUCKS   \n",
       "2        2321168                           DUNKIN DONUTS   \n",
       "3        2321165                               LA HUMITA   \n",
       "4        2321129  MING BRICKYARD SUPER CHINA BUFFET INC.   \n",
       "5        2321196                     SODEXO AMERICA, LLC   \n",
       "6        2321148    WILLIAM G. HIBBARD ELEMENTARY SCHOOL   \n",
       "7        2321187                      BANG BANG BISCUITS   \n",
       "8        2321166                                  SUBWAY   \n",
       "9        2321116               Scammon Elementary School   \n",
       "\n",
       "                          restaurant name AKA  license numer facility type  \\\n",
       "0            VIENNA BEEF/PIZZERIA UNO (T1 C6)        34222.0    Restaurant   \n",
       "1                       STARBUCKS  (T1  C-07)      2583234.0    Restaurant   \n",
       "2                               DUNKIN DONUTS        15623.0    Restaurant   \n",
       "3                                   LA HUMITA      1622351.0    Restaurant   \n",
       "4                          SUPER CHINA BUFFET      1490057.0    Restaurant   \n",
       "5  UNITED EMPLOYEE CAFETERIA (T1-C MID LEVEL)      2560546.0    Restaurant   \n",
       "6         WILLIAM G HIBBARD ELEMENTARY SCHOOL        23801.0        School   \n",
       "7                          BANG BANG BISCUITS      2458777.0    Restaurant   \n",
       "8                                      SUBWAY      2529116.0    Restaurant   \n",
       "9                   Scammon Elementary School        25241.0        School   \n",
       "\n",
       "              risk                    address     city state      zip  \\\n",
       "0  Risk 2 (Medium)         11601 W TOUHY AVE   CHICAGO    IL  60666.0   \n",
       "1  Risk 2 (Medium)         11601 W TOUHY AVE   CHICAGO    IL  60666.0   \n",
       "2  Risk 2 (Medium)        5200 N LINCOLN AVE   CHICAGO    IL  60625.0   \n",
       "3    Risk 1 (High)         3466 N PULASKI RD   CHICAGO    IL  60641.0   \n",
       "4    Risk 1 (High)   2650 N NARRAGANSETT AVE   CHICAGO    IL  60639.0   \n",
       "5    Risk 1 (High)         11601 W TOUHY AVE   CHICAGO    IL  60666.0   \n",
       "6    Risk 1 (High)         3244 W Ainslie ST   CHICAGO    IL  60625.0   \n",
       "7    Risk 1 (High)          4947 N DAMEN AVE   CHICAGO    IL  60625.0   \n",
       "8    Risk 1 (High)   2620 N NARRAGANSETT AVE   CHICAGO    IL  60639.0   \n",
       "9    Risk 1 (High)  4201 W Henderson (3332N)   CHICAGO    IL  60641.0   \n",
       "\n",
       "           inspection date          inspection type              result  \\\n",
       "0  2019-11-06T00:00:00.000  Complaint Re-Inspection                Pass   \n",
       "1  2019-11-06T00:00:00.000  Complaint Re-Inspection                Pass   \n",
       "2  2019-11-06T00:00:00.000  Complaint Re-Inspection                Pass   \n",
       "3  2019-11-06T00:00:00.000                  Canvass            No Entry   \n",
       "4  2019-11-06T00:00:00.000                Complaint                Pass   \n",
       "5  2019-11-06T00:00:00.000                  Canvass                Pass   \n",
       "6  2019-11-06T00:00:00.000                  Canvass  Pass w/ Conditions   \n",
       "7  2019-11-06T00:00:00.000                  Canvass  Pass w/ Conditions   \n",
       "8  2019-11-06T00:00:00.000                  Canvass                Fail   \n",
       "9  2019-11-06T00:00:00.000                  Canvass                Fail   \n",
       "\n",
       "                                          violations   latitude  longitude  \\\n",
       "0                                                NaN  42.008536 -87.914428   \n",
       "1                                                NaN  42.008536 -87.914428   \n",
       "2                                                NaN  41.975913 -87.692494   \n",
       "3                                                NaN  41.944678 -87.727496   \n",
       "4  55. PHYSICAL FACILITIES INSTALLED, MAINTAINED ...  41.928847 -87.785781   \n",
       "5  47. FOOD & NON-FOOD CONTACT SURFACES CLEANABLE...  42.008536 -87.914428   \n",
       "6  10. ADEQUATE HANDWASHING SINKS PROPERLY SUPPLI...  41.970363 -87.710362   \n",
       "7  3. MANAGEMENT, FOOD EMPLOYEE AND CONDITIONAL E...  41.971969 -87.679136   \n",
       "8  3. MANAGEMENT, FOOD EMPLOYEE AND CONDITIONAL E...  41.927995 -87.785752   \n",
       "9  10. ADEQUATE HANDWASHING SINKS PROPERLY SUPPLI...  41.941649 -87.732229   \n",
       "\n",
       "                                            location  \n",
       "0  {'longitude': '42.008536400868735', 'latitude'...  \n",
       "1  {'longitude': '42.008536400868735', 'latitude'...  \n",
       "2  {'longitude': '41.97591289899352', 'latitude':...  \n",
       "3  {'longitude': '41.94467795956372', 'latitude':...  \n",
       "4  {'longitude': '41.928847223323764', 'latitude'...  \n",
       "5  {'longitude': '42.008536400868735', 'latitude'...  \n",
       "6  {'longitude': '41.97036267439323', 'latitude':...  \n",
       "7  {'longitude': '41.971969426617925', 'latitude'...  \n",
       "8  {'longitude': '41.92799528871574', 'latitude':...  \n",
       "9  {'longitude': '41.941649437310005', 'latitude'...  "
      ]
     },
     "execution_count": 4,
     "metadata": {},
     "output_type": "execute_result"
    }
   ],
   "source": [
    "fi_df=fi_df.drop(columns=['historical','zip codes','commun. areas','census tr.','wards'])\n",
    "fi_df.head(10)"
   ]
  },
  {
   "cell_type": "markdown",
   "metadata": {},
   "source": [
    "Our research focuses on the city Chicago, our dataset however contains numerous other locations which we have to discard."
   ]
  },
  {
   "cell_type": "code",
   "execution_count": 5,
   "metadata": {},
   "outputs": [],
   "source": [
    "fi_df['city']=fi_df['city'].apply(lambda c: str(c).upper())"
   ]
  },
  {
   "cell_type": "code",
   "execution_count": 6,
   "metadata": {},
   "outputs": [],
   "source": [
    "fi_df['city']=fi_df['city'].replace({'CCHICAGO':'CHICAGO'})"
   ]
  },
  {
   "cell_type": "code",
   "execution_count": 7,
   "metadata": {},
   "outputs": [
    {
     "data": {
      "text/plain": [
       "CHICAGO               195083\n",
       "NAN                      139\n",
       "SCHAUMBURG                25\n",
       "MAYWOOD                   16\n",
       "ELK GROVE VILLAGE         13\n",
       "                       ...  \n",
       "COUNTRY CLUB HILLS         1\n",
       "FRANKFORT                  1\n",
       "WHEATON                    1\n",
       "BLOOMINGDALE               1\n",
       "GLENCOE                    1\n",
       "Name: city, Length: 66, dtype: int64"
      ]
     },
     "execution_count": 7,
     "metadata": {},
     "output_type": "execute_result"
    }
   ],
   "source": [
    "fi_df['city'].value_counts()"
   ]
  },
  {
   "cell_type": "code",
   "execution_count": 8,
   "metadata": {},
   "outputs": [
    {
     "data": {
      "text/plain": [
       "CHICAGO    195083\n",
       "Name: city, dtype: int64"
      ]
     },
     "execution_count": 8,
     "metadata": {},
     "output_type": "execute_result"
    }
   ],
   "source": [
    "fi_df=fi_df[fi_df['city']=='CHICAGO']\n",
    "fi_df['city'].value_counts()"
   ]
  },
  {
   "cell_type": "markdown",
   "metadata": {},
   "source": [
    "Everything is clean now on that level. Next we consider the facility types, we are in the skin of a tourist or any other person looking for a place to eat in Chicago. So the facility types such as churches, schools, hospitals etc. are not taken into consideration."
   ]
  },
  {
   "cell_type": "code",
   "execution_count": 9,
   "metadata": {},
   "outputs": [
    {
     "data": {
      "text/plain": [
       "restaurant                                         130213\n",
       "bakery                                               2851\n",
       "mobile food dispenser                                 780\n",
       "mobile food preparer                                  585\n",
       "golden diner                                          561\n",
       "                                                    ...  \n",
       "mobile frozen desserts dispenser-non- motorized         1\n",
       "deli/bakery                                             1\n",
       "mobile dessert vendor                                   1\n",
       "tap room/tavern/liquor store                            1\n",
       "hooka bar                                               1\n",
       "Name: facility type, Length: 85, dtype: int64"
      ]
     },
     "execution_count": 9,
     "metadata": {},
     "output_type": "execute_result"
    }
   ],
   "source": [
    "#1. drop all nan values\n",
    "fi_df=fi_df.dropna(subset=['facility type'])\n",
    "\n",
    "#2. drop all values that aren't litterals\n",
    "fi_df['facility type']=fi_df['facility type'].astype(str)\n",
    "\n",
    "non_numerical_ft=fi_df['facility type'].apply(lambda f: not f.isdigit())\n",
    "fi_df=fi_df[non_numerical_ft]\n",
    "\n",
    "#3. keep only facility types of interest\n",
    "#discarded_facilities=['care','hospital','church','gas','children','kiosk','store','school','kitchen','facility','wholesale'];\n",
    "interest=['restaurant','bakery','diner','roof','mobile','bar','diner','breakfast','lounge','grill','tavern']\n",
    "facility_column=fi_df['facility type'].copy().apply(lambda c: c.lower()).apply(lambda c: any( w in c for w in interest))\n",
    "fi_df=fi_df[facility_column]\n",
    "fi_df['facility type'].apply(lambda c: c.lower()).value_counts()\n"
   ]
  },
  {
   "cell_type": "code",
   "execution_count": 10,
   "metadata": {},
   "outputs": [],
   "source": [
    "\n",
    "rules=fi_df['violations'].copy()\n",
    "rules=rules.dropna().astype(str)\n",
    "\n",
    "#clean: remove comments and separate multiple violations\n",
    "def discard_comment(x):\n",
    "    x=x.strip()\n",
    "    x=x.split('-')\n",
    "    return x[0].strip()\n",
    "rules=rules.apply(lambda v: v.split('|'))\n",
    "rules=rules.apply(lambda v: [discard_comment(v_i) for v_i in v])\n",
    "rules=np.unique(rules.explode())"
   ]
  },
  {
   "cell_type": "code",
   "execution_count": 11,
   "metadata": {},
   "outputs": [
    {
     "data": {
      "text/plain": [
       "array(['1. PERSON IN CHARGE PRESENT, DEMONSTRATES KNOWLEDGE, AND PERFORMS DUTIES',\n",
       "       '1. SOURCE SOUND CONDITION, NO SPOILAGE, FOODS PROPERLY LABELED, SHELLFISH TAGS IN PLACE',\n",
       "       '10. ADEQUATE HANDWASHING SINKS PROPERLY SUPPLIED AND ACCESSIBLE',\n",
       "       '10. SEWAGE AND WASTE WATER DISPOSAL, NO BACK SIPHONAGE, CROSS  CONNECTION AND/OR BACK FLOW',\n",
       "       '11. ADEQUATE NUMBER, CONVENIENT, ACCESSIBLE, DESIGNED, AND MAINTAINED',\n",
       "       '11. FOOD OBTAINED FROM APPROVED SOURCE',\n",
       "       '12. FOOD RECEIVED AT PROPER TEMPERATURE',\n",
       "       '12. HAND WASHING FACILITIES: WITH SOAP AND SANITARY HAND DRYING DEVICES, CONVENIENT AND ACCESSIBLE TO FOOD PREP AREA',\n",
       "       '13. FOOD IN GOOD CONDITION, SAFE, & UNADULTERATED',\n",
       "       '13. NO EVIDENCE OF RODENT OR INSECT INFESTATION, NO BIRDS, TURTLES OR OTHER ANIMALS',\n",
       "       '14. PREVIOUS SERIOUS VIOLATION CORRECTED, 7',\n",
       "       '14. REQUIRED RECORDS AVAILABLE: SHELLSTOCK TAGS, PARASITE DESTRUCTION',\n",
       "       '15. FOOD SEPARATED AND PROTECTED',\n",
       "       '15. UNWRAPPED AND POTENTIALLY HAZARDOUS FOOD NOT RE', '16. FOOD',\n",
       "       '16. FOOD PROTECTED DURING STORAGE, PREPARATION, DISPLAY, SERVICE AND TRANSPORTATION',\n",
       "       '17. POTENTIALLY HAZARDOUS FOOD PROPERLY THAWED',\n",
       "       '17. PROPER DISPOSITION OF RETURNED, PREVIOUSLY SERVED, RECONDITIONED & UNSAFE FOOD',\n",
       "       '18. NO EVIDENCE OF RODENT OR INSECT OUTER OPENINGS PROTECTED/RODENT PROOFED, A WRITTEN LOG SHALL BE MAINTAINED AVAILABLE TO THE INSPECTORS',\n",
       "       '18. PROPER COOKING TIME & TEMPERATURES',\n",
       "       '19. OUTSIDE GARBAGE WASTE GREASE AND STORAGE AREA; CLEAN, RODENT PROOF, ALL CONTAINERS COVERED',\n",
       "       '19. PROPER REHEATING PROCEDURES FOR HOT HOLDING',\n",
       "       '2. CITY OF CHICAGO FOOD SERVICE SANITATION CERTIFICATE',\n",
       "       '2. FACILITIES TO MAINTAIN PROPER TEMPERATURE',\n",
       "       '20. INSIDE CONTAINERS OR RECEPTACLES: ADEQUATE NUMBER, PROPERLY COVERED AND INSECT/RODENT PROOF',\n",
       "       '20. PROPER COOLING TIME AND TEMPERATURE',\n",
       "       '21. * CERTIFIED FOOD MANAGER ON SITE WHEN POTENTIALLY HAZARDOUS FOODS ARE  PREPARED AND SERVED',\n",
       "       '21. PROPER HOT HOLDING TEMPERATURES',\n",
       "       '22. DISH MACHINES: PROVIDED WITH ACCURATE THERMOMETERS, CHEMICAL TEST KITS AND SUITABLE GAUGE COCK',\n",
       "       '22. PROPER COLD HOLDING TEMPERATURES',\n",
       "       '23. DISHES AND UTENSILS FLUSHED, SCRAPED, SOAKED',\n",
       "       '23. PROPER DATE MARKING AND DISPOSITION',\n",
       "       '24. DISH WASHING FACILITIES: PROPERLY DESIGNED, CONSTRUCTED, MAINTAINED, INSTALLED, LOCATED AND OPERATED',\n",
       "       '24. TIME AS A PUBLIC HEALTH CONTROL; PROCEDURES & RECORDS',\n",
       "       '25. CONSUMER ADVISORY PROVIDED FOR RAW/UNDERCOOKED FOOD',\n",
       "       '25. TOXIC ITEMS PROPERLY STORED, LABELED AND USED',\n",
       "       '26. ADEQUATE NUMBER, CONVENIENT, ACCESSIBLE, PROPERLY DESIGNED AND INSTALLED',\n",
       "       '26. PASTEURIZED FOODS USED; PROHIBITED FOODS NOT OFFERED',\n",
       "       '27. FOOD ADDITIVES: APPROVED AND PROPERLY USED',\n",
       "       '27. TOILET ROOMS ENCLOSED CLEAN, PROVIDED WITH HAND CLEANSER, SANITARY HAND DRYING DEVICES AND PROPER WASTE RECEPTACLES',\n",
       "       '28. * INSPECTION REPORT SUMMARY DISPLAYED AND VISIBLE TO ALL CUSTOMERS',\n",
       "       '28. TOXIC SUBSTANCES PROPERLY IDENTIFIED, STORED, & USED',\n",
       "       '29. COMPLIANCE WITH VARIANCE/SPECIALIZED PROCESS/HACCP',\n",
       "       '29. PREVIOUS MINOR VIOLATION(S) CORRECTED 7',\n",
       "       '3. MANAGEMENT, FOOD EMPLOYEE AND CONDITIONAL EMPLOYEE; KNOWLEDGE, RESPONSIBILITIES AND REPORTING',\n",
       "       '3. POTENTIALLY HAZARDOUS FOOD MEETS TEMPERATURE REQUIREMENT DURING STORAGE, PREPARATION DISPLAY AND SERVICE',\n",
       "       '30. FOOD IN ORIGINAL CONTAINER, PROPERLY LABELED: CUSTOMER ADVISORY POSTED AS NEEDED',\n",
       "       '30. PASTEURIZED EGGS USED WHERE REQUIRED', '31. CLEAN MULTI',\n",
       "       '31. WATER & ICE FROM APPROVED SOURCE', '32. FOOD AND NON',\n",
       "       '32. VARIANCE OBTAINED FOR SPECIALIZED PROCESSING METHODS',\n",
       "       '33. FOOD AND NON',\n",
       "       '33. PROPER COOLING METHODS USED; ADEQUATE EQUIPMENT FOR TEMPERATURE CONTROL',\n",
       "       '34. FLOORS: CONSTRUCTED PER CODE, CLEANED, GOOD REPAIR, COVING INSTALLED, DUST',\n",
       "       '35. APPROVED THAWING METHODS USED',\n",
       "       '35. WALLS, CEILINGS, ATTACHED EQUIPMENT CONSTRUCTED PER CODE: GOOD REPAIR, SURFACES CLEAN AND DUST',\n",
       "       '36. LIGHTING: REQUIRED MINIMUM FOOT',\n",
       "       '36. THERMOMETERS PROVIDED & ACCURATE',\n",
       "       '37. FOOD PROPERLY LABELED; ORIGINAL CONTAINER',\n",
       "       '37. TOILET ROOM DOORS SELF CLOSING: DRESSING ROOMS WITH LOCKERS PROVIDED: COMPLETE SEPARATION FROM LIVING/SLEEPING QUARTERS',\n",
       "       '38. INSECTS, RODENTS, & ANIMALS NOT PRESENT',\n",
       "       '38. VENTILATION: ROOMS AND EQUIPMENT VENTED AS REQUIRED: PLUMBING: INSTALLED AND MAINTAINED',\n",
       "       '39. CONTAMINATION PREVENTED DURING FOOD PREPARATION, STORAGE & DISPLAY',\n",
       "       '39. LINEN: CLEAN AND SOILED PROPERLY STORED',\n",
       "       '4. PROPER USE OF RESTRICTION AND EXCLUSION',\n",
       "       '4. SOURCE OF CROSS CONTAMINATION CONTROLLED I.E. CUTTING BOARDS, FOOD  HANDLERS, UTENSILS, ETC',\n",
       "       '40. PERSONAL CLEANLINESS',\n",
       "       '40. REFRIGERATION AND METAL STEM THERMOMETERS PROVIDED AND CONSPICUOUS',\n",
       "       '41. PREMISES MAINTAINED FREE OF LITTER, UNNECESSARY ARTICLES, CLEANING  EQUIPMENT PROPERLY STORED',\n",
       "       '41. WIPING CLOTHS: PROPERLY USED & STORED',\n",
       "       '42. APPROPRIATE METHOD OF HANDLING OF FOOD (ICE) HAIR RESTRAINTS AND CLEAN APPAREL WORN',\n",
       "       '42. WASHING FRUITS & VEGETABLES',\n",
       "       '43. FOOD (ICE) DISPENSING UTENSILS, WASH CLOTHS PROPERLY STORED',\n",
       "       '43. IN', '44. ONLY AUTHORIZED PERSONNEL IN THE FOOD',\n",
       "       '44. UTENSILS, EQUIPMENT & LINENS: PROPERLY STORED, DRIED, & HANDLED',\n",
       "       '45. FOOD HANDLER REQUIREMENTS MET', '45. SINGLE',\n",
       "       '46. GLOVES USED PROPERLY', '47. FOOD & NON',\n",
       "       '48. WAREWASHING FACILITIES: INSTALLED, MAINTAINED & USED; TEST STRIPS',\n",
       "       '49. NON',\n",
       "       '5. PERSONNEL WITH INFECTIONS RESTRICTED: NO OPEN SORES, WOUNDS, ETC',\n",
       "       '5. PROCEDURES FOR RESPONDING TO VOMITING AND DIARRHEAL EVENTS',\n",
       "       '50. HOT & COLD WATER AVAILABLE; ADEQUATE PRESSURE',\n",
       "       '51. PLUMBING INSTALLED; PROPER BACKFLOW DEVICES',\n",
       "       '52. SEWAGE & WASTE WATER PROPERLY DISPOSED',\n",
       "       '53. TOILET FACILITIES: PROPERLY CONSTRUCTED, SUPPLIED, & CLEANED',\n",
       "       '54. GARBAGE & REFUSE PROPERLY DISPOSED; FACILITIES MAINTAINED',\n",
       "       '55. PHYSICAL FACILITIES INSTALLED, MAINTAINED & CLEAN',\n",
       "       '56. ADEQUATE VENTILATION & LIGHTING; DESIGNATED AREAS USED',\n",
       "       '57. ALL FOOD EMPLOYEES HAVE FOOD HANDLER TRAINING',\n",
       "       '58. ALLERGEN TRAINING AS REQUIRED',\n",
       "       '59. PREVIOUS PRIORITY FOUNDATION VIOLATION CORRECTED',\n",
       "       '6. HANDS WASHED AND CLEANED, GOOD HYGIENIC PRACTICES; NO BARE HAND CONTACT WITH READY',\n",
       "       '6. PROPER EATING, TASTING, DRINKING, OR TOBACCO USE',\n",
       "       '60. PREVIOUS CORE VIOLATION CORRECTED',\n",
       "       '61. SUMMARY REPORT DISPLAYED AND VISIBLE TO THE PUBLIC',\n",
       "       '62. COMPLIANCE WITH CLEAN INDOOR AIR ORDINANCE',\n",
       "       '63. REMOVAL OF SUSPENSION SIGN',\n",
       "       '7. NO DISCHARGE FROM EYES, NOSE, AND MOUTH',\n",
       "       '7. WASH AND RINSE WATER: CLEAN AND PROPER TEMPERATURE',\n",
       "       '70. NO SMOKING REGULATIONS', '8. HANDS CLEAN & PROPERLY WASHED',\n",
       "       '8. SANITIZING RINSE FOR EQUIPMENT AND UTENSILS:  CLEAN, PROPER TEMPERATURE, CONCENTRATION, EXPOSURE TIME',\n",
       "       '9. NO BARE HAND CONTACT WITH RTE FOOD OR A PRE',\n",
       "       '9. WATER SOURCE: SAFE, HOT & COLD UNDER CITY PRESSURE'],\n",
       "      dtype=object)"
      ]
     },
     "execution_count": 11,
     "metadata": {},
     "output_type": "execute_result"
    }
   ],
   "source": [
    "#need to redo indexing so that each rule number is unique, \n",
    "rules"
   ]
  },
  {
   "cell_type": "code",
   "execution_count": 12,
   "metadata": {},
   "outputs": [
    {
     "data": {
      "text/plain": [
       "0                                                       NaN\n",
       "1                                                       NaN\n",
       "2                                                       NaN\n",
       "3                                                       NaN\n",
       "4         55. PHYSICAL FACILITIES INSTALLED, MAINTAINED ...\n",
       "                                ...                        \n",
       "195443                                                  NaN\n",
       "195444                                                  NaN\n",
       "195445    18. NO EVIDENCE OF RODENT OR INSECT OUTER OPEN...\n",
       "195446                                                  NaN\n",
       "195447                                                  NaN\n",
       "Name: violations, Length: 136141, dtype: object"
      ]
     },
     "execution_count": 12,
     "metadata": {},
     "output_type": "execute_result"
    }
   ],
   "source": [
    "fi_df['violations']"
   ]
  },
  {
   "cell_type": "code",
   "execution_count": 13,
   "metadata": {},
   "outputs": [],
   "source": [
    "fi_df['inspection date']=pd.to_datetime(fi_df['inspection date'])"
   ]
  },
  {
   "cell_type": "code",
   "execution_count": 14,
   "metadata": {},
   "outputs": [
    {
     "data": {
      "text/plain": [
       "2016    16856\n",
       "2017    16013\n",
       "2014    15654\n",
       "2015    14906\n",
       "2013    14537\n",
       "2018    12355\n",
       "2012    11869\n",
       "2011    11800\n",
       "2010    11251\n",
       "2019    10900\n",
       "Name: inspection date, dtype: int64"
      ]
     },
     "execution_count": 14,
     "metadata": {},
     "output_type": "execute_result"
    }
   ],
   "source": [
    "years=fi_df['inspection date'].apply(lambda d: d.year).value_counts()\n",
    "years"
   ]
  },
  {
   "cell_type": "code",
   "execution_count": 19,
   "metadata": {},
   "outputs": [
    {
     "data": {
      "text/plain": [
       "Pass                    73521\n",
       "Fail                    25642\n",
       "Pass w/ Conditions      21045\n",
       "Out of Business          9286\n",
       "No Entry                 5289\n",
       "Not Ready                1332\n",
       "Business Not Located       26\n",
       "Name: result, dtype: int64"
      ]
     },
     "execution_count": 19,
     "metadata": {},
     "output_type": "execute_result"
    }
   ],
   "source": [
    "fi_df['result'].value_counts()"
   ]
  },
  {
   "cell_type": "code",
   "execution_count": 21,
   "metadata": {},
   "outputs": [
    {
     "data": {
      "text/plain": [
       "SUBWAY                      2649\n",
       "DUNKIN DONUTS               1367\n",
       "MCDONALD'S                   564\n",
       "MCDONALDS                    322\n",
       "CHIPOTLE MEXICAN GRILL       308\n",
       "                            ... \n",
       "BULLSEYE GRILL                 1\n",
       "PIER 5736                      1\n",
       "TACOS & SALSAS LLC             1\n",
       "MAKER'S MARK BARREL ROOM       1\n",
       "SLICE                          1\n",
       "Name: restaurant name DBA, Length: 15124, dtype: int64"
      ]
     },
     "execution_count": 21,
     "metadata": {},
     "output_type": "execute_result"
    }
   ],
   "source": [
    "fi_df['restaurant name DBA'].value_counts()"
   ]
  },
  {
   "cell_type": "markdown",
   "metadata": {},
   "source": [
    "Now let's start our first visualisation of the chicagoean restaurant map, for this we will be using Folium introduced in the course. Let's start with a very simple one: the restaurants that passed the inspection in 2019."
   ]
  },
  {
   "cell_type": "code",
   "execution_count": 15,
   "metadata": {},
   "outputs": [
    {
     "data": {
      "text/html": [
       "<div style=\"width:100%;\"><div style=\"position:relative;width:100%;height:0;padding-bottom:60%;\"><iframe src=\"data:text/html;charset=utf-8;base64,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\" style=\"position:absolute;width:100%;height:100%;left:0;top:0;border:none !important;\" allowfullscreen webkitallowfullscreen mozallowfullscreen></iframe></div></div>"
      ],
      "text/plain": [
       "<folium.folium.Map at 0x1a7e7641550>"
      ]
     },
     "execution_count": 15,
     "metadata": {},
     "output_type": "execute_result"
    }
   ],
   "source": [
    "import folium\n",
    "loc=[fi_df['latitude'][0],fi_df['longitude'][0]]\n",
    "m=m = folium.Map(location=loc)\n",
    "m\n"
   ]
  },
  {
   "cell_type": "code",
   "execution_count": 16,
   "metadata": {},
   "outputs": [
    {
     "data": {
      "text/plain": [
       "(2227, 17)"
      ]
     },
     "execution_count": 16,
     "metadata": {},
     "output_type": "execute_result"
    }
   ],
   "source": [
    "#all the inspected 2019 restaurants with result passed\n",
    "passed_2019=fi_df.copy()\n",
    "passed_2019=passed_2019[[date.year==2019 for date in passed_2019['inspection date']]]\n",
    "passed_2019=passed_2019[[result=='Pass' for result in passed_2019['result']]]\n",
    "passed_2019=passed_2019[[not math.isnan(l)for l in passed_2019['latitude']]]\n",
    "passed_2019=passed_2019[[not math.isnan(l)for l in passed_2019['longitude']]]\n",
    "passed_2019.index=range(passed_2019.shape[0])\n",
    "passed_2019.shape\n",
    "\n"
   ]
  },
  {
   "cell_type": "code",
   "execution_count": 17,
   "metadata": {},
   "outputs": [],
   "source": [
    "\n",
    "for i in range(20):\n",
    "    loc=[passed_2019['latitude'][i], passed_2019['longitude'][i]]\n",
    "    folium.Marker(loc, popup=passed_2019['restaurant name DBA'][i]).add_to(m)"
   ]
  },
  {
   "cell_type": "code",
   "execution_count": 18,
   "metadata": {},
   "outputs": [
    {
     "data": {
      "text/html": [
       "<div style=\"width:100%;\"><div style=\"position:relative;width:100%;height:0;padding-bottom:60%;\"><iframe src=\"data:text/html;charset=utf-8;base64,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\" style=\"position:absolute;width:100%;height:100%;left:0;top:0;border:none !important;\" allowfullscreen webkitallowfullscreen mozallowfullscreen></iframe></div></div>"
      ],
      "text/plain": [
       "<folium.folium.Map at 0x1a7e7641550>"
      ]
     },
     "execution_count": 18,
     "metadata": {},
     "output_type": "execute_result"
    }
   ],
   "source": [
    "m"
   ]
  },
  {
   "cell_type": "markdown",
   "metadata": {},
   "source": [
    "2000 markers don't fit into a map, need an alternative"
   ]
  }
 ],
 "metadata": {
  "kernelspec": {
   "display_name": "Python 3",
   "language": "python",
   "name": "python3"
  },
  "language_info": {
   "codemirror_mode": {
    "name": "ipython",
    "version": 3
   },
   "file_extension": ".py",
   "mimetype": "text/x-python",
   "name": "python",
   "nbconvert_exporter": "python",
   "pygments_lexer": "ipython3",
   "version": "3.7.3"
  }
 },
 "nbformat": 4,
 "nbformat_minor": 2
}
